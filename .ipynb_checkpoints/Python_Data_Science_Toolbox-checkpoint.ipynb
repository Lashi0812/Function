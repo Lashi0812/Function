{
 "cells": [
  {
   "cell_type": "markdown",
   "id": "beeff7dc",
   "metadata": {
    "pycharm": {
     "name": "#%% md\n"
    }
   },
   "source": [
    "# Writing your own functions"
   ]
  },
  {
   "cell_type": "markdown",
   "id": "f9fc090a",
   "metadata": {
    "pycharm": {
     "name": "#%% md\n"
    }
   },
   "source": [
    "## User-defined functions"
   ]
  },
  {
   "cell_type": "markdown",
   "id": "70fbeac8",
   "metadata": {
    "pycharm": {
     "name": "#%% md\n"
    }
   },
   "source": [
    "### 2. You’ll learn:\n",
    "\n",
    "Specifically, in this video and in the interactive exercises that follow it, you will learn to do the following: define functions without parameters, define functions with single parameters, and define functions that return a single value. In the next section, you'll learn how to pass multiple arguments to functions, as well as return multiple values from them. Let's begin!"
   ]
  },
  {
   "cell_type": "markdown",
   "id": "f451dc38",
   "metadata": {
    "pycharm": {
     "name": "#%% md\n"
    }
   },
   "source": [
    "### 3. Built-in functions\n",
    "\n",
    "Let's check out Python's built-in function str, which accepts an object such as a number and returns a string object. You can assign a call to str to a variable to store its return value. While built-in Python functions are cool, as a Data Scientist, you'll need functions that have functionality specific to your needs. Fortunately, you can define your own functions in Python!"
   ]
  },
  {
   "cell_type": "code",
   "execution_count": 1,
   "id": "4a392edb",
   "metadata": {
    "pycharm": {
     "name": "#%%\n"
    }
   },
   "outputs": [
    {
     "name": "stdout",
     "output_type": "stream",
     "text": [
      "5\n",
      "<class 'str'>\n"
     ]
    }
   ],
   "source": [
    "x = str(5)\n",
    "print(x)\n",
    "\n",
    "print(type(x))"
   ]
  },
  {
   "cell_type": "markdown",
   "id": "60502f4e",
   "metadata": {
    "pycharm": {
     "name": "#%% md\n"
    }
   },
   "source": [
    "### 4. Defining a function\n",
    "\n",
    "We'll now see how to define functions via an example, a function that squares a number. The function name square will be perfect for this. To define the function, We begin with the keyword def, followed by the function name square; this is then followed by a set of parentheses and a colon. This piece of code is called a function header. To complete the function definition, let's write the function body by squaring a value, say 4, and printing the output. Right now, our square function does not have any parameters within the parentheses. We will add them later. Now, whenever this function is called, the code in the function body is run. In this case, new_value is assigned the value of 4 ** 2 and then printed out. You can call the function as you do with pre-built functions: square. This should yield the value, 16."
   ]
  },
  {
   "cell_type": "code",
   "execution_count": 2,
   "id": "1685b1eb",
   "metadata": {
    "pycharm": {
     "name": "#%%\n"
    }
   },
   "outputs": [
    {
     "name": "stdout",
     "output_type": "stream",
     "text": [
      "16\n"
     ]
    }
   ],
   "source": [
    "def square():\n",
    "    new_value = 4 ** 2\n",
    "    print(new_value)\n",
    "\n",
    "square()"
   ]
  },
  {
   "cell_type": "markdown",
   "id": "df81a420",
   "metadata": {
    "pycharm": {
     "name": "#%% md\n"
    }
   },
   "source": [
    "### 5. Function parameters\n",
    "\n",
    "What if you wanted to square any other number besides 4, though? To add that functionality, you add a parameter to the function definition in between the parentheses. Here you see that we've added a parameter value and in the new function body, the variable new_value takes the square of value, which is then printed out. We can now square any number that we pass to the function square as an argument. A quick word on parameters and arguments: when you define a function, you write parameters in the function header. When you call a function, you pass arguments into the function."
   ]
  },
  {
   "cell_type": "code",
   "execution_count": 6,
   "id": "08273fe1",
   "metadata": {
    "pycharm": {
     "name": "#%%\n"
    }
   },
   "outputs": [],
   "source": [
    "def square(value):\n",
    "    new_value = value **2\n",
    "    print(new_value)\n",
    "\n"
   ]
  },
  {
   "cell_type": "code",
   "execution_count": 8,
   "id": "9982d3c6",
   "metadata": {
    "pycharm": {
     "name": "#%%\n"
    }
   },
   "outputs": [
    {
     "name": "stdout",
     "output_type": "stream",
     "text": [
      "16\n",
      "25\n"
     ]
    }
   ],
   "source": [
    "square(4)\n",
    "square(5)"
   ]
  },
  {
   "cell_type": "markdown",
   "id": "3fc5421a",
   "metadata": {
    "pycharm": {
     "name": "#%% md\n"
    }
   },
   "source": [
    "### 6. Return values from functions\n",
    "\n",
    "The function square now accepts a single parameter and prints out its squared value. But what if we don't want to print that value directly and instead we want to return the squared value and assign it to some variable? You can have your function return the new value by adding the return keyword, followed by the value to return. Now we can assign to a variable num the result of the function call as you see here."
   ]
  },
  {
   "cell_type": "code",
   "execution_count": 9,
   "id": "2f693b71",
   "metadata": {
    "pycharm": {
     "name": "#%%\n"
    }
   },
   "outputs": [],
   "source": [
    "def square(value):\n",
    "    new_value = value ** 2\n",
    "    return new_value\n"
   ]
  },
  {
   "cell_type": "code",
   "execution_count": 10,
   "id": "7e4d3daa",
   "metadata": {
    "pycharm": {
     "name": "#%%\n"
    }
   },
   "outputs": [
    {
     "name": "stdout",
     "output_type": "stream",
     "text": [
      "36\n"
     ]
    }
   ],
   "source": [
    "num = square(6)\n",
    "print(num)"
   ]
  },
  {
   "cell_type": "markdown",
   "id": "da510fb8",
   "metadata": {
    "pycharm": {
     "name": "#%% md\n"
    }
   },
   "source": [
    "### 7. Docstrings\n",
    "\n",
    "There's another essential aspect of writing functions in Python: docstrings. Docstrings are used to describe what your function does, such as the computations it performs or its return values. These descriptions serve as documentation for your function so that anyone who reads your function's docstring understands what your function does, without having to trace through all the code in the function definition. Function docstrings are placed in the immediate line after the function header and are placed in between triple quotation marks. An appropriate Docstring for our function square is 'Returns the square of a value'."
   ]
  },
  {
   "cell_type": "code",
   "execution_count": 11,
   "id": "f9d2d2c3",
   "metadata": {
    "pycharm": {
     "name": "#%%\n"
    }
   },
   "outputs": [],
   "source": [
    "def square(value):\n",
    "    \"\"\"Return the square of the value\"\"\"\n",
    "    new_value = value ** 2\n",
    "    return new_value"
   ]
  },
  {
   "cell_type": "markdown",
   "id": "6a76a72a",
   "metadata": {
    "pycharm": {
     "name": "#%% md\n"
    }
   },
   "source": [
    "### 8. Let's practice!\n",
    "\n",
    "You've now just learned the basics of defining your own functions! Now it's your turn. In the next few exercises, you will try your hand at defining and using your own functions."
   ]
  },
  {
   "cell_type": "markdown",
   "id": "2b5cc3a8",
   "metadata": {
    "pycharm": {
     "name": "#%% md\n"
    }
   },
   "source": [
    "## Write a simple function\n",
    "\n",
    "<p>In the last video, Hugo described the basics of how to define a function. You will now write your own function!</p>\n",
    "<p>Define a function, <code>shout()</code>, which simply prints out a string with three exclamation marks <code>'!!!'</code> at the end. The code for the <code>square()</code> function that we wrote earlier is found below. You can use it as a pattern to define <code>shout()</code>.</p>\n",
    "<pre><code>def square():\n",
    "    new_value = 4 ** 2\n",
    "    return new_value\n",
    "</code></pre>\n",
    "<p>Note that the function body is indented 4 spaces already for you. Function bodies need to be indented by a consistent number of spaces and the choice of 4 is common.</p>\n",
    "<p><em>This course touches on a lot of concepts you may have forgotten, so if you ever need a quick refresher, download the <a href=\"https://datacamp-community-prod.s3.amazonaws.com/0eff0330-e87d-4c34-88d5-73e80cb955f2\" target=\"_blank\" rel=\"noopener noreferrer\">Python for Data Science Cheat Sheet</a> and keep it handy!</em></p>"
   ]
  },
  {
   "cell_type": "markdown",
   "id": "578da39f",
   "metadata": {
    "pycharm": {
     "name": "#%% md\n"
    }
   },
   "source": [
    "Complete the function header by adding the appropriate function name, <code>shout</code>."
   ]
  },
  {
   "cell_type": "markdown",
   "id": "281b5ff3",
   "metadata": {
    "pycharm": {
     "name": "#%% md\n"
    }
   },
   "source": [
    "In the function body, <strong>concatenate</strong> the string, <code>'congratulations'</code> with another string, <code>'!!!'</code>. Assign the result to <code>shout_word</code>."
   ]
  },
  {
   "cell_type": "markdown",
   "id": "23808adf",
   "metadata": {
    "pycharm": {
     "name": "#%% md\n"
    }
   },
   "source": [
    "Print the value of <code>shout_word</code>."
   ]
  },
  {
   "cell_type": "markdown",
   "id": "de1385a0",
   "metadata": {
    "pycharm": {
     "name": "#%% md\n"
    }
   },
   "source": [
    "Call the <code>shout</code> function."
   ]
  },
  {
   "cell_type": "code",
   "execution_count": 12,
   "id": "e68cdc2c",
   "metadata": {
    "pycharm": {
     "name": "#%%\n"
    }
   },
   "outputs": [
    {
     "name": "stdout",
     "output_type": "stream",
     "text": [
      "congratulations!!!\n"
     ]
    }
   ],
   "source": [
    "def shout():\n",
    "    \"\"\"Print a string with three exclamation marks\"\"\"\n",
    "    # Concatenate the strings: shout_word\n",
    "    shout_word = \"congratulations\" + \"!!!\"\n",
    "\n",
    "\n",
    "    # Print shout_word\n",
    "    print(shout_word)\n",
    "\n",
    "# Call shout\n",
    "shout()"
   ]
  },
  {
   "cell_type": "markdown",
   "id": "48b9b4e6",
   "metadata": {
    "pycharm": {
     "name": "#%% md\n"
    }
   },
   "source": [
    "## Single-parameter functions\n",
    "\n",
    "<p>Congratulations! You have successfully defined <em>and</em> called your own function! That's pretty cool.</p>\n",
    "<p>In the previous exercise, you defined and called the function <code>shout()</code>, which printed out a string concatenated with <code>'!!!'</code>.\n",
    "You will now update <code>shout()</code> by adding a <em>parameter</em> so that it can accept and process any string <em>argument</em> passed to it. Also note that <code>shout(word)</code>, the part of the <em>header</em> that specifies the function name and parameter(s), is known as the <em>signature</em> of the function. You may encounter this term in the wild!</p>"
   ]
  },
  {
   "cell_type": "markdown",
   "id": "697f3f84",
   "metadata": {
    "pycharm": {
     "name": "#%% md\n"
    }
   },
   "source": [
    "Complete the function header by adding the parameter name, <code>word</code>."
   ]
  },
  {
   "cell_type": "markdown",
   "id": "741e2f2f",
   "metadata": {
    "pycharm": {
     "name": "#%% md\n"
    }
   },
   "source": [
    "Assign the result of concatenating <code>word</code> with <code>'!!!'</code> to <code>shout_word</code>."
   ]
  },
  {
   "cell_type": "markdown",
   "id": "feb4981d",
   "metadata": {
    "pycharm": {
     "name": "#%% md\n"
    }
   },
   "source": [
    "Print the value of <code>shout_word</code>."
   ]
  },
  {
   "cell_type": "markdown",
   "id": "bceda91b",
   "metadata": {
    "pycharm": {
     "name": "#%% md\n"
    }
   },
   "source": [
    "Call the <code>shout()</code> function, passing to it the string, <code>'congratulations'</code>."
   ]
  },
  {
   "cell_type": "code",
   "execution_count": 13,
   "id": "917788d6",
   "metadata": {
    "pycharm": {
     "name": "#%%\n"
    }
   },
   "outputs": [
    {
     "name": "stdout",
     "output_type": "stream",
     "text": [
      "congratulations!!!\n"
     ]
    }
   ],
   "source": [
    "# Define shout with the parameter, word\n",
    "def shout(word):\n",
    "    \"\"\"Print a string with three exclamation marks\"\"\"\n",
    "    # Concatenate the strings: shout_word\n",
    "    shout_word = word + '!!!'\n",
    "\n",
    "    # Print shout_word\n",
    "    print(shout_word)\n",
    "\n",
    "# Call shout with the string 'congratulations'\n",
    "shout(\"congratulations\")"
   ]
  },
  {
   "cell_type": "markdown",
   "id": "f4cb4e85",
   "metadata": {
    "pycharm": {
     "name": "#%% md\n"
    }
   },
   "source": [
    "## Functions that return single values\n",
    "\n",
    "<p>You're getting very good at this! Try your hand at another modification to the <code>shout()</code> function so that it now <em>returns</em> a single value instead of printing within the function. Recall that the <code>return</code> keyword lets you return values from functions. Parts of the function <code>shout()</code>, which you wrote earlier, are shown. Returning values is generally more desirable than printing them out because, as you saw earlier, a <code>print()</code> call assigned to a variable has type <code>NoneType</code>.</p>"
   ]
  },
  {
   "cell_type": "markdown",
   "id": "d4c4ddd4",
   "metadata": {
    "pycharm": {
     "name": "#%% md\n"
    }
   },
   "source": [
    "In the function body, concatenate the string in <code>word</code> with <code>'!!!'</code> and assign to <code>shout_word</code>."
   ]
  },
  {
   "cell_type": "markdown",
   "id": "0b2a4692",
   "metadata": {
    "pycharm": {
     "name": "#%% md\n"
    }
   },
   "source": [
    "Replace the <code>print()</code> statement with the appropriate <code>return</code> statement."
   ]
  },
  {
   "cell_type": "markdown",
   "id": "4d4d9c69",
   "metadata": {
    "pycharm": {
     "name": "#%% md\n"
    }
   },
   "source": [
    "Call the <code>shout()</code> function, passing to it the string, <code>'congratulations'</code>, and assigning the call to the variable, <code>yell</code>."
   ]
  },
  {
   "cell_type": "markdown",
   "id": "cd51657e",
   "metadata": {
    "pycharm": {
     "name": "#%% md\n"
    }
   },
   "source": [
    "To check if <code>yell</code> contains the value returned by <code>shout()</code>, print the value of <code>yell</code>."
   ]
  },
  {
   "cell_type": "code",
   "execution_count": 14,
   "id": "2952539d",
   "metadata": {
    "pycharm": {
     "name": "#%%\n"
    }
   },
   "outputs": [
    {
     "name": "stdout",
     "output_type": "stream",
     "text": [
      "congratulations!!!\n"
     ]
    }
   ],
   "source": [
    "# Define shout with the parameter, word\n",
    "def shout(word):\n",
    "    \"\"\"Return a string with three exclamation marks\"\"\"\n",
    "    # Concatenate the strings: shout_word\n",
    "    shout_word = word + '!!!'\n",
    "\n",
    "    # Replace print with return\n",
    "    return(shout_word)\n",
    "\n",
    "# Pass 'congratulations' to shout: yell\n",
    "yell = shout(\"congratulations\")\n",
    "\n",
    "# Print yell\n",
    "print(yell)"
   ]
  },
  {
   "cell_type": "markdown",
   "id": "38d4f81d",
   "metadata": {
    "pycharm": {
     "name": "#%% md\n"
    }
   },
   "source": [
    "## Multiple parameters and return values"
   ]
  },
  {
   "cell_type": "markdown",
   "id": "02b4353f",
   "metadata": {
    "pycharm": {
     "name": "#%% md\n"
    }
   },
   "source": [
    "### 1. Multiple Parameters and Return Values\n",
    "\n",
    "Welcome back! You're doing great at defining your own functions. Good job! At this point, you already know how to define your own functions and even return values from them. What you'll learn next is how to pass multiple arguments to functions, as well as return not just one, but multiple values from them."
   ]
  },
  {
   "cell_type": "markdown",
   "id": "a28ac62b",
   "metadata": {
    "pycharm": {
     "name": "#%% md\n"
    }
   },
   "source": [
    "### 2. Multiple function parameters\n",
    "\n",
    "Let's tweak the square function we've been working on a little bit more. Suppose that, instead of simply squaring a value, we'd like to raise a value to the power of another value that's also passed to the function. We can do this by having our function accept two parameters instead of just one. You should also change your function name AND docstrings to reflect this new behavior. raise_to_power is an appropriate function name. Notice that there are now two parameters in the function header instead of one, value1 and value2. In the lines after that, the behavior of the overall function was also changed by raising value1 to the power of value2. You can call the function by passing in two arguments because the function has two parameters, as declared in the function header. The order in which the arguments are passed correspond to the order of the parameters in the function header. This means that when we call raise_to_power(2, 3), when the function is executed, 2 would be assigned to value1 and 3 to value2. Looking at the function body, this means that the computation value1 to the power of value2 translates to 2 to the power of 3. This function call then returns the value 8."
   ]
  },
  {
   "cell_type": "code",
   "execution_count": 15,
   "id": "6de91dd0",
   "metadata": {
    "pycharm": {
     "name": "#%%\n"
    }
   },
   "outputs": [],
   "source": [
    "def raise_to_power(value1,value2):\n",
    "    \"\"\"Raise value1 to the power of value2\"\"\"\n",
    "    new_value = value1 ** value2\n",
    "    return new_value"
   ]
  },
  {
   "cell_type": "code",
   "execution_count": 16,
   "id": "8976184d",
   "metadata": {
    "pycharm": {
     "name": "#%%\n"
    }
   },
   "outputs": [
    {
     "data": {
      "text/plain": [
       "8"
      ]
     },
     "execution_count": 16,
     "metadata": {},
     "output_type": "execute_result"
    }
   ],
   "source": [
    "raise_to_power(2,3)"
   ]
  },
  {
   "cell_type": "markdown",
   "id": "e66e5eca",
   "metadata": {
    "pycharm": {
     "name": "#%% md\n"
    }
   },
   "source": [
    "### 3. A quick jump into tuples\n",
    "\n",
    "You can also make your function return multiple values. You can do that by constructing objects known as tuples in your functions. A tuple is like a list, in that it can contain multiple values. There are some differences, however. Firstly, unlike a list, a tuple is immutable, that is, you cannot modify the values in a tuple once it has been constructed. Secondly, while lists are defined using square brackets, tuples are constructed using a set of parentheses."
   ]
  },
  {
   "cell_type": "code",
   "execution_count": 17,
   "id": "6f2a9b0a",
   "metadata": {
    "pycharm": {
     "name": "#%%\n"
    }
   },
   "outputs": [
    {
     "data": {
      "text/plain": [
       "tuple"
      ]
     },
     "execution_count": 17,
     "metadata": {},
     "output_type": "execute_result"
    }
   ],
   "source": [
    "even_nums = (2,4,6)\n",
    "type(even_nums)"
   ]
  },
  {
   "cell_type": "markdown",
   "id": "a535d56e",
   "metadata": {
    "pycharm": {
     "name": "#%% md\n"
    }
   },
   "source": [
    "### 4. Unpacking tuples\n",
    "\n",
    "Here we construct a tuple containing 3 elements. You can also unpack a tuple into several variables in one line. Doing so means that you assign to the variables a, b, and c the tuple values, in the order that they appear in the tuple."
   ]
  },
  {
   "cell_type": "code",
   "execution_count": 18,
   "id": "4c90e58f",
   "metadata": {
    "pycharm": {
     "name": "#%%\n"
    }
   },
   "outputs": [],
   "source": [
    "a,b,c = even_nums"
   ]
  },
  {
   "cell_type": "code",
   "execution_count": 19,
   "id": "89111c14",
   "metadata": {
    "pycharm": {
     "name": "#%%\n"
    }
   },
   "outputs": [
    {
     "data": {
      "text/plain": [
       "2"
      ]
     },
     "execution_count": 19,
     "metadata": {},
     "output_type": "execute_result"
    }
   ],
   "source": [
    "a"
   ]
  },
  {
   "cell_type": "markdown",
   "id": "dece61b7",
   "metadata": {
    "pycharm": {
     "name": "#%% md\n"
    }
   },
   "source": [
    "### 5. Accessing tuple elements\n",
    "\n",
    "Additionally, you can also access individual tuple elements like you do with lists. Doing this here accesses the second element of the tuple. Why is that? Recall that with lists, you can use zero-indexing to access list elements. You can do the same thing with tuples! Pretty cool, right?"
   ]
  },
  {
   "cell_type": "code",
   "execution_count": 20,
   "id": "5b0279ac",
   "metadata": {
    "pycharm": {
     "name": "#%%\n"
    }
   },
   "outputs": [
    {
     "data": {
      "text/plain": [
       "4"
      ]
     },
     "execution_count": 20,
     "metadata": {},
     "output_type": "execute_result"
    }
   ],
   "source": [
    "second_num = even_nums[1]\n",
    "second_num"
   ]
  },
  {
   "cell_type": "markdown",
   "id": "179d7c74",
   "metadata": {
    "pycharm": {
     "name": "#%% md\n"
    }
   },
   "source": [
    "### 6. Returning multiple values\n",
    "\n",
    "Let's now modify the behavior of your raise function. Instead of returning just the value of value1 raised to the power of value2, let's also return the value of value2 raised to the power of value1. You thus need to make raise return two values instead of one. We can use what we now know of tuples to do this! We first change the name of our function and the docstring to reflect the new behavior of our function. We then, in the function body, construct a tuple consisting of the values we want the function to return and, also in the function body, we return the tuple! Calling the function constructed demonstrates that it does exactly what we want!"
   ]
  },
  {
   "cell_type": "code",
   "execution_count": 21,
   "id": "819dfb80",
   "metadata": {
    "pycharm": {
     "name": "#%%\n"
    }
   },
   "outputs": [],
   "source": [
    "def raise_both(value1,value2):\n",
    "    \"\"\"Raise value1 to the power of value2 and vice verse\"\"\"\n",
    "    new_value1 = value1 ** value2\n",
    "    new_value2 = value2** value1\n",
    "    return new_value1, new_value2"
   ]
  },
  {
   "cell_type": "code",
   "execution_count": 22,
   "id": "e4e0a489",
   "metadata": {
    "pycharm": {
     "name": "#%%\n"
    }
   },
   "outputs": [
    {
     "data": {
      "text/plain": [
       "(8, 9)"
      ]
     },
     "execution_count": 22,
     "metadata": {},
     "output_type": "execute_result"
    }
   ],
   "source": [
    "raise_both(2,3)"
   ]
  },
  {
   "cell_type": "markdown",
   "id": "9594a994",
   "metadata": {
    "pycharm": {
     "name": "#%% md\n"
    }
   },
   "source": [
    "### 7. Let's practice!\n",
    "\n",
    "Now it's your turn to play with writing function that accept multiple arguments and return multiple values. Enjoy!"
   ]
  },
  {
   "cell_type": "markdown",
   "id": "c228c4e0",
   "metadata": {
    "pycharm": {
     "name": "#%% md\n"
    }
   },
   "source": [
    "## Functions with multiple parameters\n",
    "\n",
    "<p>Hugo discussed the use of multiple parameters in defining functions in the last lecture. You are now going to use what you've learned to modify the <code>shout()</code> function further. Here, you will modify <code>shout()</code> to accept two arguments. Parts of the function <code>shout()</code>, which you wrote earlier, are shown.</p>"
   ]
  },
  {
   "cell_type": "markdown",
   "id": "f1e44659",
   "metadata": {
    "pycharm": {
     "name": "#%% md\n"
    }
   },
   "source": [
    "Modify the function header such that it accepts two parameters, <code>word1</code> and <code>word2</code>, in that order."
   ]
  },
  {
   "cell_type": "markdown",
   "id": "195e532b",
   "metadata": {
    "pycharm": {
     "name": "#%% md\n"
    }
   },
   "source": [
    "Concatenate each of <code>word1</code> and <code>word2</code> with <code>'!!!'</code> and assign to <code>shout1</code> and <code>shout2</code>, respectively."
   ]
  },
  {
   "cell_type": "markdown",
   "id": "736ceea6",
   "metadata": {
    "pycharm": {
     "name": "#%% md\n"
    }
   },
   "source": [
    "Concatenate <code>shout1</code> and <code>shout2</code> together, in that order, and assign to <code>new_shout</code>."
   ]
  },
  {
   "cell_type": "markdown",
   "id": "a6d9a2a6",
   "metadata": {
    "pycharm": {
     "name": "#%% md\n"
    }
   },
   "source": [
    "Pass the strings <code>'congratulations'</code> and <code>'you'</code>, in that order, to a call to <code>shout()</code>. Assign the return value to <code>yell</code>."
   ]
  },
  {
   "cell_type": "code",
   "execution_count": 23,
   "id": "beb2f65b",
   "metadata": {
    "pycharm": {
     "name": "#%%\n"
    }
   },
   "outputs": [
    {
     "name": "stdout",
     "output_type": "stream",
     "text": [
      "congratulations!!!you!!!\n"
     ]
    }
   ],
   "source": [
    "# Define shout with parameters word1 and word2\n",
    "def shout(word1,word2):\n",
    "    \"\"\"Concatenate strings with three exclamation marks\"\"\"\n",
    "    # Concatenate word1 with '!!!': shout1\n",
    "    shout1 = word1 + \"!!!\"\n",
    "\n",
    "    # Concatenate word2 with '!!!': shout2\n",
    "    shout2 = word2 + \"!!!\"\n",
    "\n",
    "    # Concatenate shout1 with shout2: new_shout\n",
    "    new_shout =  shout1 + shout2\n",
    "\n",
    "    # Return new_shout\n",
    "    return new_shout\n",
    "\n",
    "# Pass 'congratulations' and 'you' to shout(): yell\n",
    "yell = shout(\"congratulations\",\"you\")\n",
    "\n",
    "# Print yell\n",
    "print(yell)"
   ]
  },
  {
   "cell_type": "markdown",
   "id": "af75773a",
   "metadata": {
    "pycharm": {
     "name": "#%% md\n"
    }
   },
   "source": [
    "## A brief introduction to tuples\n",
    "\n",
    "<p>Alongside learning about functions, you've also learned about tuples! Here, you will practice what you've learned about tuples: how to construct, unpack, and access tuple elements. Recall how Hugo unpacked the tuple <code>even_nums</code> in the video:</p>\n",
    "<p><code>a, b, c = even_nums</code></p>\n",
    "<p>A three-element tuple named <code>nums</code> has been preloaded for this exercise. Before completing the script, perform the following:</p>\n",
    "<ul>\n",
    "<li>Print out the value of <code>nums</code> in the IPython shell. Note the elements in the tuple.</li>\n",
    "<li>In the IPython shell, try to change the first element of <code>nums</code> to the value <em>2</em> by doing an assignment: <code>nums[0] = 2</code>. What happens?</li>\n",
    "</ul>"
   ]
  },
  {
   "cell_type": "code",
   "execution_count": 24,
   "id": "213615e2",
   "metadata": {
    "pycharm": {
     "name": "#%%\n"
    }
   },
   "outputs": [],
   "source": [
    "nums = (3,4,6)"
   ]
  },
  {
   "cell_type": "markdown",
   "id": "95a14f2b",
   "metadata": {
    "pycharm": {
     "name": "#%% md\n"
    }
   },
   "source": [
    "Unpack <code>nums</code> to the variables <code>num1</code>, <code>num2</code>, and <code>num3</code>."
   ]
  },
  {
   "cell_type": "markdown",
   "id": "7f705c28",
   "metadata": {
    "pycharm": {
     "name": "#%% md\n"
    }
   },
   "source": [
    "Construct a new tuple, <code>even_nums</code> composed of the same elements in <code>nums</code>, but with the 1st element replaced with the value, <em>2</em>."
   ]
  },
  {
   "cell_type": "code",
   "execution_count": 25,
   "id": "b64da100",
   "metadata": {
    "pycharm": {
     "name": "#%%\n"
    }
   },
   "outputs": [],
   "source": [
    "# Unpack nums into num1, num2, and num3\n",
    "num1,num2,num3 = nums\n",
    "\n",
    "# Construct even_nums\n",
    "even_nums = (2,num2,num3)"
   ]
  },
  {
   "cell_type": "markdown",
   "id": "328de50b",
   "metadata": {
    "pycharm": {
     "name": "#%% md\n"
    }
   },
   "source": [
    "## Functions that return multiple values\n",
    "\n",
    "<p>In the previous exercise, you constructed tuples, assigned tuples to variables, and unpacked tuples. Here you will return multiple values from a function using tuples. Let's now update our <code>shout()</code> function to return multiple values. Instead of returning just one string, we will return two strings with the string <code>!!!</code> concatenated to each. </p>\n",
    "<p>Note that the return statement <code>return x, y</code> has the same result as <code>return (x, y)</code>: the former actually packs <code>x</code> and <code>y</code> into a tuple under the hood!</p>"
   ]
  },
  {
   "cell_type": "markdown",
   "id": "2b3e977a",
   "metadata": {
    "pycharm": {
     "name": "#%% md\n"
    }
   },
   "source": [
    "Modify the function header such that the function name is now <code>shout_all</code>, and it accepts two parameters, <code>word1</code> and <code>word2</code>, in that order."
   ]
  },
  {
   "cell_type": "markdown",
   "id": "5c46d4c7",
   "metadata": {
    "pycharm": {
     "name": "#%% md\n"
    }
   },
   "source": [
    "Concatenate the string <code>'!!!'</code> to each of <code>word1</code> and <code>word2</code> and assign to <code>shout1</code> and <code>shout2</code>, respectively."
   ]
  },
  {
   "cell_type": "markdown",
   "id": "e163526a",
   "metadata": {
    "pycharm": {
     "name": "#%% md\n"
    }
   },
   "source": [
    "Construct a tuple <code>shout_words</code>, composed of <code>shout1</code> and <code>shout2</code>."
   ]
  },
  {
   "cell_type": "markdown",
   "id": "7db17457",
   "metadata": {
    "pycharm": {
     "name": "#%% md\n"
    }
   },
   "source": [
    "Call <code>shout_all()</code> with the strings <code>'congratulations'</code> and <code>'you'</code> and assign the result to <code>yell1</code> and <code>yell2</code> (remember, <code>shout_all()</code> returns 2 variables!)."
   ]
  },
  {
   "cell_type": "code",
   "execution_count": 26,
   "id": "7b8ddc4b",
   "metadata": {
    "pycharm": {
     "name": "#%%\n"
    }
   },
   "outputs": [
    {
     "name": "stdout",
     "output_type": "stream",
     "text": [
      "congratulations!!!\n",
      "you!!!\n"
     ]
    }
   ],
   "source": [
    "# Define shout_all with parameters word1 and word2\n",
    "def shout_all(word1, word2):\n",
    "\n",
    "    # Concatenate word1 with '!!!': shout1\n",
    "    shout1 = word1 + \"!!!\"\n",
    "\n",
    "    # Concatenate word2 with '!!!': shout2\n",
    "    shout2 = word2 + \"!!!\"\n",
    "\n",
    "    # Construct a tuple with shout1 and shout2: shout_words\n",
    "    shout_words = (shout1 ,shout2)\n",
    "\n",
    "    # Return shout_words\n",
    "    return shout_words\n",
    "\n",
    "# Pass 'congratulations' and 'you' to shout_all(): yell1, yell2\n",
    "yell1,yell2 = shout_all(\"congratulations\",\"you\")\n",
    "\n",
    "# Print yell1 and yell2\n",
    "print(yell1)\n",
    "print(yell2)"
   ]
  },
  {
   "cell_type": "markdown",
   "id": "25bfcdf2",
   "metadata": {
    "pycharm": {
     "name": "#%% md\n"
    }
   },
   "source": [
    "## Bringing it all together"
   ]
  },
  {
   "cell_type": "markdown",
   "id": "f7fcec13",
   "metadata": {
    "pycharm": {
     "name": "#%% md\n"
    }
   },
   "source": [
    "### 1. Bringing it all together\n",
    "\n",
    "Congrats! So now you're able to write functions"
   ]
  },
  {
   "cell_type": "markdown",
   "id": "8876ab30",
   "metadata": {
    "pycharm": {
     "name": "#%% md\n"
    }
   },
   "source": [
    "### 2. You’ve learned:\n",
    "\n",
    "that accept multiple parameters and return multiple values, it is time to see how these learnt skills can be valuable in a Data Science context. In the following exercises, you'll write a function that analyzes a DataFrame of twitter data. The function that you'll write will return a dictionary containing data of how many times each language was used across all the tweets in the DataFrame. We'll see later in this course that we can generalize such a function to count occurrences of any items in a DataFrame column. Let's recap the basic ingredients of a function."
   ]
  },
  {
   "cell_type": "markdown",
   "id": "175f2303",
   "metadata": {
    "pycharm": {
     "name": "#%% md\n"
    }
   },
   "source": [
    "### 3. Basic ingredients of a function\n",
    "\n",
    "We have a function header which begins with the keyword def. This is followed by the function name, parameters in parentheses and a colon. We then have the function body, which contains docstrings enclosed in triple quotation marks; docstrings describe what the function does; the rest of the function body performs the computation that the function does; the function body closes with the keyword return, followed by the value or values returned by the function. That's it from me."
   ]
  },
  {
   "cell_type": "markdown",
   "id": "d0539f8a",
   "metadata": {
    "pycharm": {
     "name": "#%% md\n"
    }
   },
   "source": [
    "### 4. Let's practice!\n",
    "\n",
    "Happy function-writing!"
   ]
  },
  {
   "cell_type": "markdown",
   "id": "efc6bedc",
   "metadata": {
    "pycharm": {
     "name": "#%% md\n"
    }
   },
   "source": [
    "## Bringing it all together (1)\n",
    "\n",
    "<p>You've got your first taste of writing your own functions in the previous exercises. You've learned how to add parameters to your own function definitions, return a value or multiple values with tuples, and how to call the functions you've defined.</p>\n",
    "<p>In this and the following exercise, you will bring together all these concepts and apply them to a simple data science problem. You will load a dataset and develop functionalities to extract simple insights from the data. </p>\n",
    "<p>For this exercise, your goal is to recall how to load a dataset into a DataFrame. The dataset contains Twitter data and you will iterate over entries in a column to build a dictionary in which the keys are the names of languages and the values are the number of tweets in the given language. The file <code>tweets.csv</code> is available in your current directory.</p>\n",
    "<p><em>Be aware that this is real data from Twitter and as such there is always a risk that it may contain profanity or other offensive content (in this exercise, and any following exercises that also use real Twitter data).</em></p>"
   ]
  },
  {
   "cell_type": "markdown",
   "id": "0211cede",
   "metadata": {
    "pycharm": {
     "name": "#%% md\n"
    }
   },
   "source": [
    "Import the pandas package with the alias <code>pd</code>."
   ]
  },
  {
   "cell_type": "code",
   "execution_count": 27,
   "id": "4204166a",
   "metadata": {
    "pycharm": {
     "name": "#%%\n"
    }
   },
   "outputs": [],
   "source": [
    "import pandas as pd"
   ]
  },
  {
   "cell_type": "markdown",
   "id": "adf05abc",
   "metadata": {
    "pycharm": {
     "name": "#%% md\n"
    }
   },
   "source": [
    "Import the file <code>'tweets.csv'</code> using the pandas function <code>read_csv()</code>. Assign the resulting DataFrame to <code>df</code>."
   ]
  },
  {
   "cell_type": "code",
   "execution_count": 28,
   "id": "cea40bb4",
   "metadata": {
    "pycharm": {
     "name": "#%%\n"
    }
   },
   "outputs": [
    {
     "data": {
      "text/html": [
       "<div>\n",
       "<style scoped>\n",
       "    .dataframe tbody tr th:only-of-type {\n",
       "        vertical-align: middle;\n",
       "    }\n",
       "\n",
       "    .dataframe tbody tr th {\n",
       "        vertical-align: top;\n",
       "    }\n",
       "\n",
       "    .dataframe thead th {\n",
       "        text-align: right;\n",
       "    }\n",
       "</style>\n",
       "<table border=\"1\" class=\"dataframe\">\n",
       "  <thead>\n",
       "    <tr style=\"text-align: right;\">\n",
       "      <th></th>\n",
       "      <th>contributors</th>\n",
       "      <th>coordinates</th>\n",
       "      <th>created_at</th>\n",
       "      <th>entities</th>\n",
       "      <th>extended_entities</th>\n",
       "      <th>favorite_count</th>\n",
       "      <th>favorited</th>\n",
       "      <th>filter_level</th>\n",
       "      <th>geo</th>\n",
       "      <th>id</th>\n",
       "      <th>...</th>\n",
       "      <th>quoted_status_id</th>\n",
       "      <th>quoted_status_id_str</th>\n",
       "      <th>retweet_count</th>\n",
       "      <th>retweeted</th>\n",
       "      <th>retweeted_status</th>\n",
       "      <th>source</th>\n",
       "      <th>text</th>\n",
       "      <th>timestamp_ms</th>\n",
       "      <th>truncated</th>\n",
       "      <th>user</th>\n",
       "    </tr>\n",
       "  </thead>\n",
       "  <tbody>\n",
       "    <tr>\n",
       "      <th>0</th>\n",
       "      <td>NaN</td>\n",
       "      <td>NaN</td>\n",
       "      <td>Tue Mar 29 23:40:17 +0000 2016</td>\n",
       "      <td>{'hashtags': [], 'user_mentions': [{'screen_na...</td>\n",
       "      <td>{'media': [{'sizes': {'large': {'w': 1024, 'h'...</td>\n",
       "      <td>0</td>\n",
       "      <td>False</td>\n",
       "      <td>low</td>\n",
       "      <td>NaN</td>\n",
       "      <td>714960401759387648</td>\n",
       "      <td>...</td>\n",
       "      <td>NaN</td>\n",
       "      <td>NaN</td>\n",
       "      <td>0</td>\n",
       "      <td>False</td>\n",
       "      <td>{'retweeted': False, 'text': \".@krollbondratin...</td>\n",
       "      <td>&lt;a href=\"http://twitter.com\" rel=\"nofollow\"&gt;Tw...</td>\n",
       "      <td>RT @bpolitics: .@krollbondrating's Christopher...</td>\n",
       "      <td>1459294817758</td>\n",
       "      <td>False</td>\n",
       "      <td>{'utc_offset': 3600, 'profile_image_url_https'...</td>\n",
       "    </tr>\n",
       "    <tr>\n",
       "      <th>1</th>\n",
       "      <td>NaN</td>\n",
       "      <td>NaN</td>\n",
       "      <td>Tue Mar 29 23:40:17 +0000 2016</td>\n",
       "      <td>{'hashtags': [{'text': 'cruzsexscandal', 'indi...</td>\n",
       "      <td>{'media': [{'sizes': {'large': {'w': 500, 'h':...</td>\n",
       "      <td>0</td>\n",
       "      <td>False</td>\n",
       "      <td>low</td>\n",
       "      <td>NaN</td>\n",
       "      <td>714960401977319424</td>\n",
       "      <td>...</td>\n",
       "      <td>NaN</td>\n",
       "      <td>NaN</td>\n",
       "      <td>0</td>\n",
       "      <td>False</td>\n",
       "      <td>{'retweeted': False, 'text': '@dmartosko Cruz ...</td>\n",
       "      <td>&lt;a href=\"http://twitter.com\" rel=\"nofollow\"&gt;Tw...</td>\n",
       "      <td>RT @HeidiAlpine: @dmartosko Cruz video found.....</td>\n",
       "      <td>1459294817810</td>\n",
       "      <td>False</td>\n",
       "      <td>{'utc_offset': None, 'profile_image_url_https'...</td>\n",
       "    </tr>\n",
       "    <tr>\n",
       "      <th>2</th>\n",
       "      <td>NaN</td>\n",
       "      <td>NaN</td>\n",
       "      <td>Tue Mar 29 23:40:17 +0000 2016</td>\n",
       "      <td>{'hashtags': [], 'user_mentions': [], 'symbols...</td>\n",
       "      <td>NaN</td>\n",
       "      <td>0</td>\n",
       "      <td>False</td>\n",
       "      <td>low</td>\n",
       "      <td>NaN</td>\n",
       "      <td>714960402426236928</td>\n",
       "      <td>...</td>\n",
       "      <td>NaN</td>\n",
       "      <td>NaN</td>\n",
       "      <td>0</td>\n",
       "      <td>False</td>\n",
       "      <td>NaN</td>\n",
       "      <td>&lt;a href=\"http://www.facebook.com/twitter\" rel=...</td>\n",
       "      <td>Njihuni me Zonjën Trump !!! | Ekskluzive https...</td>\n",
       "      <td>1459294817917</td>\n",
       "      <td>False</td>\n",
       "      <td>{'utc_offset': 7200, 'profile_image_url_https'...</td>\n",
       "    </tr>\n",
       "    <tr>\n",
       "      <th>3</th>\n",
       "      <td>NaN</td>\n",
       "      <td>NaN</td>\n",
       "      <td>Tue Mar 29 23:40:17 +0000 2016</td>\n",
       "      <td>{'hashtags': [], 'user_mentions': [], 'symbols...</td>\n",
       "      <td>NaN</td>\n",
       "      <td>0</td>\n",
       "      <td>False</td>\n",
       "      <td>low</td>\n",
       "      <td>NaN</td>\n",
       "      <td>714960402367561730</td>\n",
       "      <td>...</td>\n",
       "      <td>7.149239e+17</td>\n",
       "      <td>7.149239e+17</td>\n",
       "      <td>0</td>\n",
       "      <td>False</td>\n",
       "      <td>NaN</td>\n",
       "      <td>&lt;a href=\"http://twitter.com/download/android\" ...</td>\n",
       "      <td>Your an idiot she shouldn't have tried to grab...</td>\n",
       "      <td>1459294817903</td>\n",
       "      <td>False</td>\n",
       "      <td>{'utc_offset': None, 'profile_image_url_https'...</td>\n",
       "    </tr>\n",
       "    <tr>\n",
       "      <th>4</th>\n",
       "      <td>NaN</td>\n",
       "      <td>NaN</td>\n",
       "      <td>Tue Mar 29 23:40:17 +0000 2016</td>\n",
       "      <td>{'hashtags': [], 'user_mentions': [{'screen_na...</td>\n",
       "      <td>NaN</td>\n",
       "      <td>0</td>\n",
       "      <td>False</td>\n",
       "      <td>low</td>\n",
       "      <td>NaN</td>\n",
       "      <td>714960402149416960</td>\n",
       "      <td>...</td>\n",
       "      <td>NaN</td>\n",
       "      <td>NaN</td>\n",
       "      <td>0</td>\n",
       "      <td>False</td>\n",
       "      <td>{'retweeted': False, 'text': 'The anti-America...</td>\n",
       "      <td>&lt;a href=\"http://twitter.com/download/iphone\" r...</td>\n",
       "      <td>RT @AlanLohner: The anti-American D.C. elites ...</td>\n",
       "      <td>1459294817851</td>\n",
       "      <td>False</td>\n",
       "      <td>{'utc_offset': -18000, 'profile_image_url_http...</td>\n",
       "    </tr>\n",
       "  </tbody>\n",
       "</table>\n",
       "<p>5 rows × 31 columns</p>\n",
       "</div>"
      ],
      "text/plain": [
       "   contributors  coordinates                      created_at  \\\n",
       "0           NaN          NaN  Tue Mar 29 23:40:17 +0000 2016   \n",
       "1           NaN          NaN  Tue Mar 29 23:40:17 +0000 2016   \n",
       "2           NaN          NaN  Tue Mar 29 23:40:17 +0000 2016   \n",
       "3           NaN          NaN  Tue Mar 29 23:40:17 +0000 2016   \n",
       "4           NaN          NaN  Tue Mar 29 23:40:17 +0000 2016   \n",
       "\n",
       "                                            entities  \\\n",
       "0  {'hashtags': [], 'user_mentions': [{'screen_na...   \n",
       "1  {'hashtags': [{'text': 'cruzsexscandal', 'indi...   \n",
       "2  {'hashtags': [], 'user_mentions': [], 'symbols...   \n",
       "3  {'hashtags': [], 'user_mentions': [], 'symbols...   \n",
       "4  {'hashtags': [], 'user_mentions': [{'screen_na...   \n",
       "\n",
       "                                   extended_entities  favorite_count  \\\n",
       "0  {'media': [{'sizes': {'large': {'w': 1024, 'h'...               0   \n",
       "1  {'media': [{'sizes': {'large': {'w': 500, 'h':...               0   \n",
       "2                                                NaN               0   \n",
       "3                                                NaN               0   \n",
       "4                                                NaN               0   \n",
       "\n",
       "   favorited filter_level  geo                  id  ...  quoted_status_id  \\\n",
       "0      False          low  NaN  714960401759387648  ...               NaN   \n",
       "1      False          low  NaN  714960401977319424  ...               NaN   \n",
       "2      False          low  NaN  714960402426236928  ...               NaN   \n",
       "3      False          low  NaN  714960402367561730  ...      7.149239e+17   \n",
       "4      False          low  NaN  714960402149416960  ...               NaN   \n",
       "\n",
       "  quoted_status_id_str  retweet_count  retweeted  \\\n",
       "0                  NaN              0      False   \n",
       "1                  NaN              0      False   \n",
       "2                  NaN              0      False   \n",
       "3         7.149239e+17              0      False   \n",
       "4                  NaN              0      False   \n",
       "\n",
       "                                    retweeted_status  \\\n",
       "0  {'retweeted': False, 'text': \".@krollbondratin...   \n",
       "1  {'retweeted': False, 'text': '@dmartosko Cruz ...   \n",
       "2                                                NaN   \n",
       "3                                                NaN   \n",
       "4  {'retweeted': False, 'text': 'The anti-America...   \n",
       "\n",
       "                                              source  \\\n",
       "0  <a href=\"http://twitter.com\" rel=\"nofollow\">Tw...   \n",
       "1  <a href=\"http://twitter.com\" rel=\"nofollow\">Tw...   \n",
       "2  <a href=\"http://www.facebook.com/twitter\" rel=...   \n",
       "3  <a href=\"http://twitter.com/download/android\" ...   \n",
       "4  <a href=\"http://twitter.com/download/iphone\" r...   \n",
       "\n",
       "                                                text   timestamp_ms truncated  \\\n",
       "0  RT @bpolitics: .@krollbondrating's Christopher...  1459294817758     False   \n",
       "1  RT @HeidiAlpine: @dmartosko Cruz video found.....  1459294817810     False   \n",
       "2  Njihuni me Zonjën Trump !!! | Ekskluzive https...  1459294817917     False   \n",
       "3  Your an idiot she shouldn't have tried to grab...  1459294817903     False   \n",
       "4  RT @AlanLohner: The anti-American D.C. elites ...  1459294817851     False   \n",
       "\n",
       "                                                user  \n",
       "0  {'utc_offset': 3600, 'profile_image_url_https'...  \n",
       "1  {'utc_offset': None, 'profile_image_url_https'...  \n",
       "2  {'utc_offset': 7200, 'profile_image_url_https'...  \n",
       "3  {'utc_offset': None, 'profile_image_url_https'...  \n",
       "4  {'utc_offset': -18000, 'profile_image_url_http...  \n",
       "\n",
       "[5 rows x 31 columns]"
      ]
     },
     "execution_count": 28,
     "metadata": {},
     "output_type": "execute_result"
    }
   ],
   "source": [
    "df = pd.read_csv(\"data/tweets.csv\")\n",
    "df.head()"
   ]
  },
  {
   "cell_type": "code",
   "execution_count": 29,
   "id": "771eb4d2",
   "metadata": {
    "pycharm": {
     "name": "#%%\n"
    }
   },
   "outputs": [
    {
     "data": {
      "text/plain": [
       "(100, 31)"
      ]
     },
     "execution_count": 29,
     "metadata": {},
     "output_type": "execute_result"
    }
   ],
   "source": [
    "df.shape"
   ]
  },
  {
   "cell_type": "markdown",
   "id": "1e228fa5",
   "metadata": {
    "pycharm": {
     "name": "#%% md\n"
    }
   },
   "source": [
    "Complete the <code>for</code> loop by iterating over <code>col</code>, the <code>'lang'</code> column in the DataFrame <code>df</code>."
   ]
  },
  {
   "cell_type": "markdown",
   "id": "1c2c31bd",
   "metadata": {
    "pycharm": {
     "name": "#%% md\n"
    }
   },
   "source": [
    "Complete the bodies of the <code>if-else</code> statements in the for loop:  <strong>if</strong> the key is in the dictionary <code>langs_count</code>, add <code>1</code> to the value corresponding to this key in the dictionary, <strong>else</strong> add the key to <code>langs_count</code> and set the corresponding value to <code>1</code>. Use the loop variable <code>entry</code> in your code."
   ]
  },
  {
   "cell_type": "code",
   "execution_count": 30,
   "id": "f74ad904",
   "metadata": {
    "pycharm": {
     "name": "#%%\n"
    }
   },
   "outputs": [
    {
     "name": "stdout",
     "output_type": "stream",
     "text": [
      "{'en': 97, 'et': 1, 'und': 2}\n"
     ]
    }
   ],
   "source": [
    "# Initialize an empty dictionary: langs_count\n",
    "langs_count = {}\n",
    "\n",
    "# Extract column from DataFrame: col\n",
    "col = df['lang']\n",
    "\n",
    "# Iterate over lang column in DataFrame\n",
    "for entry in col:\n",
    "\n",
    "    # If the language is in langs_count, add 1\n",
    "    if entry in langs_count.keys():\n",
    "        langs_count[entry] = langs_count[entry] +1\n",
    "    # Else add the language to langs_count, set the value to 1\n",
    "    else:\n",
    "        langs_count[entry] = 1\n",
    "\n",
    "# Print the populated dictionary\n",
    "print(langs_count)"
   ]
  },
  {
   "cell_type": "markdown",
   "id": "99b573cd",
   "metadata": {
    "pycharm": {
     "name": "#%% md\n"
    }
   },
   "source": [
    "## Bringing it all together (2)\n",
    "\n",
    "<p>Great job! You've now defined the functionality for iterating over entries in a column and building a dictionary with keys the names of languages and values the number of tweets in the given language. </p>\n",
    "<p>In this exercise, you will define a function with the functionality you developed in the previous exercise, return the resulting dictionary from within the function, and call the function with the appropriate arguments. </p>\n",
    "<p>For your convenience, the pandas package has been imported as <code>pd</code> and the <code>'tweets.csv'</code> file has been imported into the <code>tweets_df</code> variable.</p>"
   ]
  },
  {
   "cell_type": "markdown",
   "id": "08ba531b",
   "metadata": {
    "pycharm": {
     "name": "#%% md\n"
    }
   },
   "source": [
    "Define the function <code>count_entries()</code>, which has two parameters. The first parameter is <code>df</code> for the DataFrame and the second is <code>col_name</code> for the column name."
   ]
  },
  {
   "cell_type": "markdown",
   "id": "422b2244",
   "metadata": {
    "pycharm": {
     "name": "#%% md\n"
    }
   },
   "source": [
    "Complete the bodies of the <code>if-else</code> statements in the <code>for</code> loop: <strong>if</strong> the key is in the dictionary <code>langs_count</code>, add <code>1</code> to its current value, <strong>else</strong> add the key to <code>langs_count</code> and set its value to <code>1</code>. Use the loop variable <code>entry</code> in your code."
   ]
  },
  {
   "cell_type": "markdown",
   "id": "9ba4ae14",
   "metadata": {
    "pycharm": {
     "name": "#%% md\n"
    }
   },
   "source": [
    "Return the <code>langs_count</code> dictionary from inside the <code>count_entries()</code> function."
   ]
  },
  {
   "cell_type": "markdown",
   "id": "be03b42a",
   "metadata": {
    "pycharm": {
     "name": "#%% md\n"
    }
   },
   "source": [
    "Call the <code>count_entries()</code> function by passing to it <code>tweets_df</code> and the name of the column, <code>'lang'</code>. Assign the result of the call to the variable <code>result</code>."
   ]
  },
  {
   "cell_type": "code",
   "execution_count": 31,
   "id": "aa8a1620",
   "metadata": {
    "pycharm": {
     "name": "#%%\n"
    }
   },
   "outputs": [],
   "source": [
    "# Define count_entries()\n",
    "def count_entries(df, col_name):\n",
    "    \"\"\"Return a dictionary with counts of\n",
    "    occurrences as value for each key.\"\"\"\n",
    "\n",
    "    # Initialize an empty dictionary: langs_count\n",
    "    langs_count = {}\n",
    "\n",
    "    # Extract column from DataFrame: col\n",
    "    col = df[col_name]\n",
    "\n",
    "    # Iterate over lang column in DataFrame\n",
    "    for entry in col:\n",
    "\n",
    "        # If the language is in langs_count, add 1\n",
    "        if entry in langs_count.keys():\n",
    "            langs_count[entry] = langs_count[entry]+1\n",
    "        # Else add the language to langs_count, set the value to 1\n",
    "        else:\n",
    "            langs_count[entry] =1\n",
    "\n",
    "    # Return the langs_count dictionary\n",
    "    return langs_count"
   ]
  },
  {
   "cell_type": "code",
   "execution_count": 32,
   "id": "773af5f1",
   "metadata": {
    "pycharm": {
     "name": "#%%\n"
    }
   },
   "outputs": [
    {
     "name": "stdout",
     "output_type": "stream",
     "text": [
      "{'en': 97, 'et': 1, 'und': 2}\n"
     ]
    }
   ],
   "source": [
    "\n",
    "# Call count_entries(): result\n",
    "result = count_entries(df,\"lang\")\n",
    "\n",
    "# Print the result\n",
    "print(result)"
   ]
  },
  {
   "cell_type": "markdown",
   "id": "5a57b83c",
   "metadata": {
    "pycharm": {
     "name": "#%% md\n"
    }
   },
   "source": [
    "## Congratulations!"
   ]
  },
  {
   "cell_type": "markdown",
   "id": "df56458e",
   "metadata": {
    "pycharm": {
     "name": "#%% md\n"
    }
   },
   "source": [
    "### 1. Congratulations!\n",
    "\n",
    "Congratulations, you're now a bonafide Python function writer. On top of that, you have just written your very first Data Sciencey function."
   ]
  },
  {
   "cell_type": "markdown",
   "id": "41baf55c",
   "metadata": {
    "pycharm": {
     "name": "#%% md\n"
    }
   },
   "source": [
    "### 2. Next chapters:\n",
    "\n",
    "At this point, although you can write basic functions, you've really just touched the surface of function writing capabilities. In the following Chapters, you'll learn how to write functions that have default arguments so that when you call them, you don't always have to specify all the parameters; you'll learn how to write functions that can accept an arbitrary number of parameters and how to nest functions within one another; on top of this, you'll learn how to handle errors when writing functions, which will make your functions as robust as they need to be. Moreover, you'll see the importance of such techniques in Data Science by writing functions that are pertinent to the Data Science sphere like the Twitter DataFrame analysis that you just performed."
   ]
  },
  {
   "cell_type": "markdown",
   "id": "45f1d21b",
   "metadata": {
    "pycharm": {
     "name": "#%% md\n"
    }
   },
   "source": [
    "### 3. Let's practice!\n",
    "\n",
    "I am pumped for this and can't wait to see you in the next chapter!"
   ]
  },
  {
   "cell_type": "markdown",
   "id": "7cd26ea6",
   "metadata": {
    "pycharm": {
     "name": "#%% md\n"
    }
   },
   "source": [
    "# Default arguments, variable-length arguments and scope"
   ]
  },
  {
   "cell_type": "markdown",
   "id": "0f66640d",
   "metadata": {
    "pycharm": {
     "name": "#%% md\n"
    }
   },
   "source": [
    "## Scope and user-defined functions"
   ]
  },
  {
   "cell_type": "markdown",
   "id": "d6f2a41d",
   "metadata": {
    "pycharm": {
     "name": "#%% md\n"
    }
   },
   "source": [
    "### 1. Scope and user-defined functions\n",
    "\n",
    "Wow! At this point, you know how to define your own functions - but not only that, you know how to write functions with multiple parameters and can return multiple values using tuples. Good job!"
   ]
  },
  {
   "cell_type": "markdown",
   "id": "4f0dad73",
   "metadata": {
    "pycharm": {
     "name": "#%% md\n"
    }
   },
   "source": [
    "### 2. Crash course on scope in functions\n",
    "\n",
    "We'll now talk about the idea of scope in the context of user-defined functions. You've been defining variables in your programs and so far, you've been using these variables without any problems. However, one thing you should know is that not all objects that you define are always accessible everywhere in a program. Enter the idea of scope, which tells you which part of a program an object or a name may be accessed. Names refer to the variables or, more generally, objects such as functions that are defined in your program, for example, a variable x has a name, as does the function sum. There are three types of scope that you should know. The first one is the idea of the global scope. A name that is in the global scope means that it is defined in the main body of a script or a Python program. The second one, is the local scope. A name that is in a local scope means that it is defined within a function. Once the execution of a function is done, any name inside the local scope ceases to exist, which means you cannot access those names anymore outside of the function definition. The third is something called the built-in scope: this consists of names in the pre-defined built-ins module Python provides, such as print and sum. You'll play around with the built-ins module in the interactive exercises."
   ]
  },
  {
   "cell_type": "markdown",
   "id": "55ee6a26",
   "metadata": {
    "pycharm": {
     "name": "#%% md\n"
    }
   },
   "source": [
    "### 3. Global vs. local scope (1)\n",
    "\n",
    "Let's look at a couple of examples to clarify these definitions. Let's check out our example function square from earlier. We define the function and then call it. If we then try to access the variable name new_val after function execution, the name is not accessible. This is because it was defined only within the local scope of the function. The name new_val was not defined globally."
   ]
  },
  {
   "cell_type": "code",
   "execution_count": 33,
   "id": "9f6a2176",
   "metadata": {
    "pycharm": {
     "name": "#%%\n"
    }
   },
   "outputs": [
    {
     "data": {
      "text/plain": [
       "9"
      ]
     },
     "execution_count": 33,
     "metadata": {},
     "output_type": "execute_result"
    }
   ],
   "source": [
    "def square(value):\n",
    "    \"\"\"Return the square of the value\"\"\"\n",
    "    new_value = value ** 2\n",
    "    return new_value\n",
    "square(3)"
   ]
  },
  {
   "cell_type": "code",
   "execution_count": 35,
   "id": "35a8ef92",
   "metadata": {
    "pycharm": {
     "name": "#%%\n"
    }
   },
   "outputs": [
    {
     "name": "stderr",
     "output_type": "stream",
     "text": [
      "Traceback (most recent call last):\n",
      "  File \"C:\\Users\\Lenovo\\AppData\\Local\\Temp\\ipykernel_37916\\502116085.py\", line 5, in <cell line: 4>\n",
      "    print(f\"Accessing the variable inside the function {new_value}\")\n",
      "NameError: name 'new_value' is not defined\n"
     ]
    }
   ],
   "source": [
    "import traceback\n",
    "import sys\n",
    "\n",
    "try:\n",
    "    print(f\"Accessing the variable inside the function {new_value}\")\n",
    "except NameError:\n",
    "    traceback.print_exception(*sys.exc_info())"
   ]
  },
  {
   "cell_type": "markdown",
   "id": "0e824bc6",
   "metadata": {
    "pycharm": {
     "name": "#%% md\n"
    }
   },
   "source": [
    "### 4. Global vs. local scope (2)\n",
    "\n",
    "Now what if we define the name globally before defining and calling the function? In short, any time we call the name in the global scope, it will access the name in the global, such as you see here. Any time we call the name in the local scope of the function, it will look first in the local scope. That's why calling square(3) results in 9 and not 10. If Python cannot find the name in the local scope, it will then and only then look in the global scope."
   ]
  },
  {
   "cell_type": "code",
   "execution_count": 36,
   "id": "965b897a",
   "metadata": {
    "pycharm": {
     "name": "#%%\n"
    }
   },
   "outputs": [
    {
     "data": {
      "text/plain": [
       "9"
      ]
     },
     "execution_count": 36,
     "metadata": {},
     "output_type": "execute_result"
    }
   ],
   "source": [
    "new_value = 10\n",
    "def square(value):\n",
    "    \"\"\"Return the square of the value\"\"\"\n",
    "    new_value = value ** 2\n",
    "    return new_value\n",
    "square(3)"
   ]
  },
  {
   "cell_type": "code",
   "execution_count": 38,
   "id": "1bb9ae26",
   "metadata": {
    "pycharm": {
     "name": "#%%\n"
    }
   },
   "outputs": [
    {
     "name": "stdout",
     "output_type": "stream",
     "text": [
      "Accessing the variable 10\n"
     ]
    }
   ],
   "source": [
    "try:\n",
    "    print(f\"Accessing the variable {new_value}\")\n",
    "except NameError:\n",
    "    traceback.print_exception(*sys.exc_info())"
   ]
  },
  {
   "cell_type": "markdown",
   "id": "4492ff65",
   "metadata": {
    "pycharm": {
     "name": "#%% md\n"
    }
   },
   "source": [
    "### 5. Global vs. local scope (3)\n",
    "\n",
    "Here, for example, we access new_val defined globally within the function square. Note that the global value accessed is the value at the time the function is called, not the value when the function is defined. Thus, if we re-assign new_val and call the function square, we see that the new value of new_val is accessed. To recap, when we reference a name, first the local scope is searched, then the global. If the name is in neither, then the built-in scope is searched."
   ]
  },
  {
   "cell_type": "code",
   "execution_count": 39,
   "id": "aefc28a1",
   "metadata": {
    "pycharm": {
     "name": "#%%\n"
    }
   },
   "outputs": [
    {
     "data": {
      "text/plain": [
       "100"
      ]
     },
     "execution_count": 39,
     "metadata": {},
     "output_type": "execute_result"
    }
   ],
   "source": [
    "new_value = 10\n",
    "def square(value):\n",
    "    \"\"\"Return the square of the value\"\"\"\n",
    "    new_value1 = new_value ** 2\n",
    "    return new_value1\n",
    "square(3)"
   ]
  },
  {
   "cell_type": "markdown",
   "id": "300fd946",
   "metadata": {
    "pycharm": {
     "name": "#%% md\n"
    }
   },
   "source": [
    "### 6. Global vs. local scope (4)\n",
    "\n",
    "Now what if we want to alter the value of a global name within a function call? This is where the keyword global comes in handy. To look at how it works, let's look at another example. Within the function definition, we use the keyword global followed by the name of the global variable that we wish to access and alter. For example, here we change new_val to its square. The function call works as one would expect. Now calling new_val, we see that the global value has indeed been squared by running the function square."
   ]
  },
  {
   "cell_type": "code",
   "execution_count": 40,
   "id": "0798091b",
   "metadata": {
    "pycharm": {
     "name": "#%%\n"
    }
   },
   "outputs": [
    {
     "data": {
      "text/plain": [
       "100"
      ]
     },
     "execution_count": 40,
     "metadata": {},
     "output_type": "execute_result"
    }
   ],
   "source": [
    "new_value = 10\n",
    "def square(value):\n",
    "    \"\"\"Return the square of the value\"\"\"\n",
    "    global new_value\n",
    "    new_value = new_value ** 2\n",
    "    return new_value\n",
    "square(3)"
   ]
  },
  {
   "cell_type": "code",
   "execution_count": 41,
   "id": "dd070de0",
   "metadata": {
    "pycharm": {
     "name": "#%%\n"
    }
   },
   "outputs": [
    {
     "data": {
      "text/plain": [
       "100"
      ]
     },
     "execution_count": 41,
     "metadata": {},
     "output_type": "execute_result"
    }
   ],
   "source": [
    "new_value"
   ]
  },
  {
   "cell_type": "markdown",
   "id": "957c0258",
   "metadata": {
    "pycharm": {
     "name": "#%% md\n"
    }
   },
   "source": [
    "### 7. Let's practice!\n",
    "\n",
    "Now it's your turn to play with all things scope, local, global and built-in. Have fun!"
   ]
  },
  {
   "cell_type": "markdown",
   "id": "03bd2d6e",
   "metadata": {
    "pycharm": {
     "name": "#%% md\n"
    }
   },
   "source": [
    "## The keyword global\n",
    "\n",
    "<p>Let's work more on your mastery of scope. In this exercise, you will use the keyword <code>global</code> within a function to alter the value of a variable defined in the global scope.</p>"
   ]
  },
  {
   "cell_type": "markdown",
   "id": "ee55f926",
   "metadata": {
    "pycharm": {
     "name": "#%% md\n"
    }
   },
   "source": [
    "Use the keyword <code>global</code> to alter the object <code>team</code> in the global scope."
   ]
  },
  {
   "cell_type": "markdown",
   "id": "13942145",
   "metadata": {
    "pycharm": {
     "name": "#%% md\n"
    }
   },
   "source": [
    "Change the value of <code>team</code> in the global scope to the string <code>\"justice league\"</code>. Assign the result to <code>team</code>."
   ]
  },
  {
   "cell_type": "markdown",
   "id": "882256ee",
   "metadata": {
    "pycharm": {
     "name": "#%% md\n"
    }
   },
   "source": [
    "Hit the Submit button to see how executing your newly defined function <code>change_team()</code> changes the value of the name <code>team</code>!"
   ]
  },
  {
   "cell_type": "code",
   "execution_count": 42,
   "id": "9c92e9d4",
   "metadata": {
    "pycharm": {
     "name": "#%%\n"
    }
   },
   "outputs": [
    {
     "name": "stdout",
     "output_type": "stream",
     "text": [
      "teen titans\n",
      "justice league\n"
     ]
    }
   ],
   "source": [
    "# Create a string: team\n",
    "team = \"teen titans\"\n",
    "\n",
    "# Define change_team()\n",
    "def change_team():\n",
    "    \"\"\"Change the value of the global variable team.\"\"\"\n",
    "\n",
    "    # Use team in global scope\n",
    "    global team\n",
    "\n",
    "    # Change the value of team in global: team\n",
    "    team = \"justice league\"\n",
    "# Print team\n",
    "print(team)\n",
    "\n",
    "# Call change_team()\n",
    "change_team()\n",
    "\n",
    "# Print team\n",
    "print(team)"
   ]
  },
  {
   "cell_type": "markdown",
   "id": "4801f3b9",
   "metadata": {
    "pycharm": {
     "name": "#%% md\n"
    }
   },
   "source": [
    "## Nested functions"
   ]
  },
  {
   "cell_type": "markdown",
   "id": "40fcf593",
   "metadata": {
    "pycharm": {
     "name": "#%% md\n"
    }
   },
   "source": [
    "### 1. Nested functions\n",
    "\n",
    "Now that you've come to grips with scope, both local and global, it's time to dive a bit deeper!"
   ]
  },
  {
   "cell_type": "markdown",
   "id": "c084e204",
   "metadata": {
    "pycharm": {
     "name": "#%% md\n"
    }
   },
   "source": [
    "### 2. Nested functions (1)\n",
    "\n",
    "What if we have a function inner defined within another function outer and we reference a name x in the inner function? The answer is intuitive: Python searches the local scope of the function inner, then if it doesn't find x, it searches the scope of the function outer, which is called an enclosing function because it encloses the function inner. If Python can't find x in the scope of the enclosing function, it only then searches the global scope and then the built-in scope. But whoa, hold on there for a second, why are we even nesting functions?"
   ]
  },
  {
   "cell_type": "markdown",
   "id": "82bd27dc",
   "metadata": {
    "pycharm": {
     "name": "#%% md\n"
    }
   },
   "source": [
    "### 3. Nested functions (2)\n",
    "\n",
    "There are a number of good reasons to do so. Let's say that we want to use a process a number of times within a function. For example, we want a function that takes 3 numbers as parameters and performs the same function on each of them. One way would be to write out the computation 3 times"
   ]
  },
  {
   "cell_type": "markdown",
   "id": "8cb194d5",
   "metadata": {
    "pycharm": {
     "name": "#%% md\n"
    }
   },
   "source": [
    "### 4. Nested functions (3)\n",
    "\n",
    "but this definitely does not scale if you need to perform the computation many times. What we can do instead is define an inner function within our function definition, such as we do here, and call it where necessary. This is called a nested function. The syntax for the inner function is exactly the same as that for any other function."
   ]
  },
  {
   "cell_type": "markdown",
   "id": "6afd1d88",
   "metadata": {
    "pycharm": {
     "name": "#%% md\n"
    }
   },
   "source": [
    "### 5. Returning functions\n",
    "\n",
    "Let's now look at another important use case of nested functions. In this example, we define a function raise_vals, which contains an inner function called inner. Now look at what raise_vals returns: it returns the inner function inner! raise_vals takes an argument n and creates a function inner that returns the nth power of any number. That's a bit complicated and will be clearer when we use the function raise_vals. Passing the number 2 to raise_vals creates a function that squares any number. Similarly, passing the number 3 to raise_vals creates a function that cubes any number. One interesting detail: when we call the function square, it remembers the value n=2, although the enclosing scope defined by raise_val and to which n=2 is local, has finished execution. This is a subtlety referred to as a closure in Computer Science circles and shouldn't concern you too much. It is worth mentioning, however, as you may encounter it out there in the wild."
   ]
  },
  {
   "cell_type": "code",
   "execution_count": 44,
   "id": "9cc00c77",
   "metadata": {
    "pycharm": {
     "name": "#%%\n"
    }
   },
   "outputs": [],
   "source": [
    "def raise_val(n):\n",
    "    \"\"\"Return the inner function.\"\"\"\n",
    "\n",
    "    def inner(x):\n",
    "        \"\"\"Raise x to the power of n\"\"\"\n",
    "        raised = x ** n  # Closure\n",
    "        return raised\n",
    "    return inner"
   ]
  },
  {
   "cell_type": "code",
   "execution_count": 45,
   "id": "c27aeeef",
   "metadata": {
    "pycharm": {
     "name": "#%%\n"
    }
   },
   "outputs": [
    {
     "name": "stdout",
     "output_type": "stream",
     "text": [
      "4 27\n"
     ]
    }
   ],
   "source": [
    "square = raise_val(2)\n",
    "cube = raise_val(3)\n",
    "\n",
    "print(square(2),cube(3))"
   ]
  },
  {
   "cell_type": "markdown",
   "id": "1a1afd35",
   "metadata": {
    "pycharm": {
     "name": "#%% md\n"
    }
   },
   "source": [
    "### 6. Using nonlocal\n",
    "\n",
    "Recall from our discussion of scope that you can use the keyword global in function definitions to create and change global names; similarly, in a nested function, you can use the keyword nonlocal to create and changes names in an enclosing scope. In this example, we alter the value of n in the inner function; because we used the keyword nonlocal, it also alter the value of n in the enclosing scope. This is why calling the function outer prints the value of n as determined within the function inner. You'll have practice using the keyword nonlocal in the interactive exercises."
   ]
  },
  {
   "cell_type": "code",
   "execution_count": 46,
   "id": "62bfd0f2",
   "metadata": {
    "pycharm": {
     "name": "#%%\n"
    }
   },
   "outputs": [],
   "source": [
    "def outer():\n",
    "    \"\"\"Print the value of n\"\"\"\n",
    "    n =1\n",
    "\n",
    "    def inner():\n",
    "        nonlocal n\n",
    "        n = 2\n",
    "        print(n)\n",
    "\n",
    "    inner()\n",
    "    print(n)"
   ]
  },
  {
   "cell_type": "code",
   "execution_count": 47,
   "id": "f8a91608",
   "metadata": {
    "pycharm": {
     "name": "#%%\n"
    }
   },
   "outputs": [
    {
     "name": "stdout",
     "output_type": "stream",
     "text": [
      "2\n",
      "2\n"
     ]
    }
   ],
   "source": [
    "outer()"
   ]
  },
  {
   "cell_type": "markdown",
   "id": "33249a03",
   "metadata": {
    "pycharm": {
     "name": "#%% md\n"
    }
   },
   "source": [
    "### 7. Scopes searched\n",
    "\n",
    "To summarize: name references search at most four scopes, the local scope, then those of enclosing functions, if there are any; then global, then built-in. This is known as the LEGB rule, where L is for local, E for enclosing, G for global and B for built-ins! Also, remember that assigning names will only create or change local names, unless they are declared in global or nonlocal statements using the keyword global or the keyword nonlocal, respectively."
   ]
  },
  {
   "cell_type": "markdown",
   "id": "6c9ce5fd",
   "metadata": {
    "pycharm": {
     "name": "#%% md\n"
    }
   },
   "source": [
    "### 8. Let's practice!\n",
    "\n",
    "Now it's your turn to write some nested functions. Enjoy!"
   ]
  },
  {
   "cell_type": "markdown",
   "id": "d07b9bd1",
   "metadata": {
    "pycharm": {
     "name": "#%% md\n"
    }
   },
   "source": [
    "## Nested Functions I\n",
    "\n",
    "<p>You've learned in the last video about nesting functions within functions. One reason why you'd like to do this is to avoid writing out the same computations within functions repeatedly. There's nothing new about defining nested functions: you simply define it as you would a regular function with <code>def</code> and embed it inside another function!</p>\n",
    "<p>In this exercise, inside a function <code>three_shouts()</code>, you will define a nested function <code>inner()</code> that concatenates a string object with <code>!!!</code>. <code>three_shouts()</code> then returns a tuple of three elements, each a string concatenated with <code>!!!</code> using <code>inner()</code>. Go for it!</p>"
   ]
  },
  {
   "cell_type": "markdown",
   "id": "a737c73d",
   "metadata": {
    "pycharm": {
     "name": "#%% md\n"
    }
   },
   "source": [
    "Complete the function header of the nested function with the function name <code>inner()</code> and a single parameter <code>word</code>."
   ]
  },
  {
   "cell_type": "markdown",
   "id": "570fc551",
   "metadata": {
    "pycharm": {
     "name": "#%% md\n"
    }
   },
   "source": [
    "Complete the return value: each element of the tuple should be a call to <code>inner()</code>, passing in the parameters from <code>three_shouts()</code> as arguments to each call."
   ]
  },
  {
   "cell_type": "code",
   "execution_count": 48,
   "id": "7998a4f8",
   "metadata": {
    "pycharm": {
     "name": "#%%\n"
    }
   },
   "outputs": [
    {
     "name": "stdout",
     "output_type": "stream",
     "text": [
      "('a!!!', 'b!!!', 'c!!!')\n"
     ]
    }
   ],
   "source": [
    "# Define three_shouts\n",
    "def three_shouts(word1, word2, word3):\n",
    "    \"\"\"Returns a tuple of strings\n",
    "    concatenated with '!!!'.\"\"\"\n",
    "\n",
    "    # Define inner\n",
    "    def inner(word):\n",
    "        \"\"\"Returns a string concatenated with '!!!'.\"\"\"\n",
    "        return word + '!!!'\n",
    "\n",
    "    # Return a tuple of strings\n",
    "    return (inner(word1), inner(word2), inner(word3))\n",
    "\n",
    "# Call three_shouts() and print\n",
    "print(three_shouts('a', 'b', 'c'))"
   ]
  },
  {
   "cell_type": "markdown",
   "id": "d30bbd5c",
   "metadata": {
    "pycharm": {
     "name": "#%% md\n"
    }
   },
   "source": [
    "## Nested Functions II\n",
    "\n",
    "<p>Great job, you've just nested a function within another function. One other pretty cool reason for nesting functions is the idea of a <strong>closure</strong>. This means that the nested or inner function remembers the state of its enclosing scope when called. Thus, anything defined locally in the enclosing scope is available to the inner function even when the outer function has finished execution.</p>\n",
    "<p>Let's move forward then! In this exercise, you will complete the definition of the inner function <code>inner_echo()</code> and then call <code>echo()</code> a couple of times, each with a different argument. Complete the exercise and see what the output will be!</p>"
   ]
  },
  {
   "cell_type": "markdown",
   "id": "047e36b5",
   "metadata": {
    "pycharm": {
     "name": "#%% md\n"
    }
   },
   "source": [
    "Complete the function header of the inner function with the function name <code>inner_echo()</code> and a single parameter <code>word1</code>."
   ]
  },
  {
   "cell_type": "markdown",
   "id": "974a035b",
   "metadata": {
    "pycharm": {
     "name": "#%% md\n"
    }
   },
   "source": [
    "Complete the function <code>echo()</code> so that it returns <code>inner_echo</code>."
   ]
  },
  {
   "cell_type": "markdown",
   "id": "223720bd",
   "metadata": {
    "pycharm": {
     "name": "#%% md\n"
    }
   },
   "source": [
    "We have called <code>echo()</code>, passing 2 as an argument, and assigned the resulting function to <code>twice</code>. Your job is to call <code>echo()</code>, passing 3 as an argument. Assign the resulting function to <code>thrice</code>."
   ]
  },
  {
   "cell_type": "markdown",
   "id": "df8d6717",
   "metadata": {
    "pycharm": {
     "name": "#%% md\n"
    }
   },
   "source": [
    "Hit Submit to call <code>twice()</code> and <code>thrice()</code> and print the results."
   ]
  },
  {
   "cell_type": "code",
   "execution_count": 50,
   "id": "71dceced",
   "metadata": {
    "pycharm": {
     "name": "#%%\n"
    }
   },
   "outputs": [
    {
     "name": "stdout",
     "output_type": "stream",
     "text": [
      "hellohello hellohellohello\n"
     ]
    }
   ],
   "source": [
    "# Define echo\n",
    "def echo(n):\n",
    "    \"\"\"Return the inner_echo function.\"\"\"\n",
    "\n",
    "    # Define inner_echo\n",
    "    def inner_echo(word1):\n",
    "        \"\"\"Concatenate n copies of word1.\"\"\"\n",
    "        echo_word = word1 * n\n",
    "        return echo_word\n",
    "\n",
    "    # Return inner_echo\n",
    "    return inner_echo\n",
    "\n",
    "\n",
    "# Call echo: twice\n",
    "twice = echo(2)\n",
    "\n",
    "# Call echo: thrice\n",
    "thrice = echo(3)\n",
    "\n",
    "# Call twice() and thrice() then print\n",
    "print(twice('hello'), thrice('hello'))"
   ]
  },
  {
   "cell_type": "markdown",
   "id": "57aa810e",
   "metadata": {
    "pycharm": {
     "name": "#%% md\n"
    }
   },
   "source": [
    "## The keyword nonlocal and nested functions\n",
    "\n",
    "<p>Let's once again work further on your mastery of scope! In this exercise, you will use the keyword <code>nonlocal</code> within a nested function to alter the value of a variable defined in the enclosing scope.</p>"
   ]
  },
  {
   "cell_type": "markdown",
   "id": "0539ccbe",
   "metadata": {
    "pycharm": {
     "name": "#%% md\n"
    }
   },
   "source": [
    "Assign to <code>echo_word</code> the string <code>word</code>, concatenated with itself."
   ]
  },
  {
   "cell_type": "markdown",
   "id": "be8e7765",
   "metadata": {
    "pycharm": {
     "name": "#%% md\n"
    }
   },
   "source": [
    "Use the keyword <code>nonlocal</code> to alter the value of <code>echo_word</code> in the enclosing scope."
   ]
  },
  {
   "cell_type": "markdown",
   "id": "14eca24f",
   "metadata": {
    "pycharm": {
     "name": "#%% md\n"
    }
   },
   "source": [
    "Alter <code>echo_word</code> to <code>echo_word</code> concatenated with '!!!'."
   ]
  },
  {
   "cell_type": "markdown",
   "id": "4660a4c4",
   "metadata": {
    "pycharm": {
     "name": "#%% md\n"
    }
   },
   "source": [
    "Call the function <code>echo_shout()</code>,  passing it a single argument 'hello'."
   ]
  },
  {
   "cell_type": "code",
   "execution_count": 51,
   "id": "f0b65b26",
   "metadata": {
    "pycharm": {
     "name": "#%%\n"
    }
   },
   "outputs": [
    {
     "name": "stdout",
     "output_type": "stream",
     "text": [
      "hellohello\n",
      "hellohello!!!\n"
     ]
    }
   ],
   "source": [
    "# Define echo_shout()\n",
    "def echo_shout(word):\n",
    "    \"\"\"Change the value of a nonlocal variable\"\"\"\n",
    "\n",
    "    # Concatenate word with itself: echo_word\n",
    "    echo_word = word + word\n",
    "\n",
    "    # Print echo_word\n",
    "    print(echo_word)\n",
    "\n",
    "    # Define inner function shout()\n",
    "    def shout():\n",
    "        \"\"\"Alter a variable in the enclosing scope\"\"\"\n",
    "        # Use echo_word in nonlocal scope\n",
    "        nonlocal echo_word\n",
    "\n",
    "        # Change echo_word to echo_word concatenated with '!!!'\n",
    "        echo_word = echo_word +\"!!!\"\n",
    "\n",
    "    # Call function shout()\n",
    "    shout()\n",
    "\n",
    "    # Print echo_word\n",
    "    print(echo_word)\n",
    "\n",
    "# Call function echo_shout() with argument 'hello'\n",
    "echo_shout(\"hello\")"
   ]
  },
  {
   "cell_type": "markdown",
   "id": "4ab23025",
   "metadata": {
    "pycharm": {
     "name": "#%% md\n"
    }
   },
   "source": [
    "## Default and flexible arguments"
   ]
  },
  {
   "cell_type": "markdown",
   "id": "fc461c54",
   "metadata": {
    "pycharm": {
     "name": "#%% md\n"
    }
   },
   "source": [
    "### 1. Default and flexible arguments\n",
    "\n",
    "Let's say that you're writing a function that takes multiple parameters and that there is often a common value for some of these parameters. In this case, you would like to be able to call the function without explicitly specifying every parameter. In other words, you would like some parameters to have default arguments that are used when it is not specified otherwise!"
   ]
  },
  {
   "cell_type": "markdown",
   "id": "e1bfd955",
   "metadata": {
    "pycharm": {
     "name": "#%% md\n"
    }
   },
   "source": [
    "### 2. You'll learn:\n",
    "\n",
    "In this video, you'll discover how to write function with default arguments, along with using flexible arguments, which allows you to pass any number of arguments to a function, as we'll soon see."
   ]
  },
  {
   "cell_type": "markdown",
   "id": "8ee3515d",
   "metadata": {
    "pycharm": {
     "name": "#%% md\n"
    }
   },
   "source": [
    "### 3. Add a default argument\n",
    "\n",
    "First up, to define a function with a default argument value, in the function header we follow the parameter of interest with an equals sign and the default argument value. Notice that this function raises the first argument to the power of the second argument and the default 2nd argument value is 1. So we can call the function with two arguments as you would expect, however, if you only use one argument, the function call will use the default argument of 1 for the second parameter! Neat, huh? In the interactive exercises that follows, you'll gain expertise in writing functions with both single and multiple default arguments."
   ]
  },
  {
   "cell_type": "code",
   "execution_count": 52,
   "id": "11b07c39",
   "metadata": {
    "pycharm": {
     "name": "#%%\n"
    }
   },
   "outputs": [
    {
     "data": {
      "text/plain": [
       "81"
      ]
     },
     "execution_count": 52,
     "metadata": {},
     "output_type": "execute_result"
    }
   ],
   "source": [
    "def power(number,pow=1):\n",
    "    \"\"\"Raise number to the power of pow\"\"\"\n",
    "    new_value = number ** pow\n",
    "    return new_value\n",
    "\n",
    "power(9,2)"
   ]
  },
  {
   "cell_type": "code",
   "execution_count": 53,
   "id": "90ecf800",
   "metadata": {
    "pycharm": {
     "name": "#%%\n"
    }
   },
   "outputs": [
    {
     "data": {
      "text/plain": [
       "9"
      ]
     },
     "execution_count": 53,
     "metadata": {},
     "output_type": "execute_result"
    }
   ],
   "source": [
    "power(9)"
   ]
  },
  {
   "cell_type": "markdown",
   "id": "309e5b3f",
   "metadata": {
    "pycharm": {
     "name": "#%% md\n"
    }
   },
   "source": [
    "### 4. Flexible arguments: *args (1)\n",
    "\n",
    "Lets now look at flexible arguments: let's say that you want to write a function but aren't sure how many arguments a user will want to pass it; for example, a function that takes floats or ints and adds them all up, irrespective of how many there are. Enter flexible arguments! In this example, we write the function that sums up all the arguments passed to it. In the function definition, we use the parameter star followed by args: this then turns all the arguments passed to a function call into a tuple called args in the function body; then, in the function body, to write our desired function, we initialize our sum sum_all to 0, loop over the tuple args and add each element of it successively to sum_all and then return it."
   ]
  },
  {
   "cell_type": "code",
   "execution_count": 54,
   "id": "6a597ba2",
   "metadata": {
    "pycharm": {
     "name": "#%%\n"
    }
   },
   "outputs": [],
   "source": [
    "def add_all(*args):\n",
    "    \"\"\"Sum all te value in the *args (tuple)\"\"\"\n",
    "\n",
    "    print(type(args))\n",
    "    sum_all = 0\n",
    "\n",
    "    for num in args:\n",
    "        sum_all = sum_all + num\n",
    "\n",
    "    return sum_all"
   ]
  },
  {
   "cell_type": "markdown",
   "id": "0b4a5f4c",
   "metadata": {
    "pycharm": {
     "name": "#%% md\n"
    }
   },
   "source": [
    "### 5. Flexible arguments: *args (2)\n",
    "\n",
    "We can now call our function add_all with any number of arguments to add them all up!"
   ]
  },
  {
   "cell_type": "code",
   "execution_count": 55,
   "id": "6eb4130c",
   "metadata": {
    "pycharm": {
     "name": "#%%\n"
    }
   },
   "outputs": [
    {
     "name": "stdout",
     "output_type": "stream",
     "text": [
      "<class 'tuple'>\n"
     ]
    },
    {
     "data": {
      "text/plain": [
       "1"
      ]
     },
     "execution_count": 55,
     "metadata": {},
     "output_type": "execute_result"
    }
   ],
   "source": [
    "add_all(1)"
   ]
  },
  {
   "cell_type": "code",
   "execution_count": 56,
   "id": "7d26389d",
   "metadata": {
    "pycharm": {
     "name": "#%%\n"
    }
   },
   "outputs": [
    {
     "name": "stdout",
     "output_type": "stream",
     "text": [
      "<class 'tuple'>\n"
     ]
    },
    {
     "data": {
      "text/plain": [
       "26"
      ]
     },
     "execution_count": 56,
     "metadata": {},
     "output_type": "execute_result"
    }
   ],
   "source": [
    "add_all(1,25)"
   ]
  },
  {
   "cell_type": "code",
   "execution_count": 57,
   "id": "fddf208d",
   "metadata": {
    "pycharm": {
     "name": "#%%\n"
    }
   },
   "outputs": [
    {
     "name": "stdout",
     "output_type": "stream",
     "text": [
      "<class 'tuple'>\n"
     ]
    },
    {
     "data": {
      "text/plain": [
       "1036"
      ]
     },
     "execution_count": 57,
     "metadata": {},
     "output_type": "execute_result"
    }
   ],
   "source": [
    "add_all(1,345,46,577,67)"
   ]
  },
  {
   "cell_type": "markdown",
   "id": "3108b65f",
   "metadata": {
    "pycharm": {
     "name": "#%% md\n"
    }
   },
   "source": [
    "### 6. Flexible arguments: **kwargs\n",
    "\n",
    "You can also use a double star to pass an arbitrary number of keyword arguments, also called kwargs, that is, arguments preceded by identifiers. We'll write such a function called print_all that prints out the identifiers and the parameters passed to them as you see here."
   ]
  },
  {
   "cell_type": "markdown",
   "id": "abbf924d",
   "metadata": {
    "pycharm": {
     "name": "#%% md\n"
    }
   },
   "source": [
    "### 7. Flexible arguments: **kwargs\n",
    "\n",
    "Now to write such a function, we use the parameter kwargs preceded by a double star. This turns the identifier-keyword pairs into a dictionary within the function body. Then, in the function body all we need to do is to print all the key-value pairs stored in the dictionary kwargs. Note that it is NOT the names args and kwargs that are important when using flexible arguments, but rather that they're preceded by a single and double star, respectively."
   ]
  },
  {
   "cell_type": "code",
   "execution_count": 58,
   "id": "62d2c0ed",
   "metadata": {
    "pycharm": {
     "name": "#%%\n"
    }
   },
   "outputs": [],
   "source": [
    "def print_all(**kwargs):\n",
    "    \"\"\"Print out the key-value pairs in **kwargs\"\"\"\n",
    "\n",
    "    # Print out the key-value pairs\n",
    "    for key,value in kwargs.items():\n",
    "        print(key + \" : \" + value)"
   ]
  },
  {
   "cell_type": "code",
   "execution_count": 59,
   "id": "f3c11641",
   "metadata": {
    "pycharm": {
     "name": "#%%\n"
    }
   },
   "outputs": [
    {
     "name": "stdout",
     "output_type": "stream",
     "text": [
      "arg1 : laks\n",
      "arg2 : hman\n"
     ]
    }
   ],
   "source": [
    "print_all(arg1 = \"laks\",arg2=\"hman\")"
   ]
  },
  {
   "cell_type": "markdown",
   "id": "b03faec8",
   "metadata": {
    "pycharm": {
     "name": "#%% md\n"
    }
   },
   "source": [
    "### 8. Let's practice!\n",
    "\n",
    "I know this is a lot to take in so it's now time to go and hack it out yourself. Get writing functions!"
   ]
  },
  {
   "cell_type": "markdown",
   "id": "fd025a50",
   "metadata": {
    "pycharm": {
     "name": "#%% md\n"
    }
   },
   "source": [
    "## Functions with one default argument\n",
    "\n",
    "<p>In the previous chapter, you've learned to define functions with more than one parameter and then calling those functions by passing the required number of arguments. In the last video, Hugo built on this idea by showing you how to define functions with default arguments. You will practice that skill in this exercise by writing a function that uses a default argument and then calling the function a couple of times.</p>"
   ]
  },
  {
   "cell_type": "markdown",
   "id": "c3e14a55",
   "metadata": {
    "pycharm": {
     "name": "#%% md\n"
    }
   },
   "source": [
    "Complete the function header with the function name <code>shout_echo</code>. It accepts an argument <code>word1</code> and a default argument <code>echo</code> with default value <code>1</code>, in that order."
   ]
  },
  {
   "cell_type": "markdown",
   "id": "1cbf06fb",
   "metadata": {
    "pycharm": {
     "name": "#%% md\n"
    }
   },
   "source": [
    "Use the <code>*</code> operator to concatenate <code>echo</code> copies of <code>word1</code>. Assign the result to <code>echo_word</code>."
   ]
  },
  {
   "cell_type": "markdown",
   "id": "65f39cf8",
   "metadata": {
    "pycharm": {
     "name": "#%% md\n"
    }
   },
   "source": [
    "Call <code>shout_echo()</code> with just the string, <code>\"Hey\"</code>. Assign the result to <code>no_echo</code>."
   ]
  },
  {
   "cell_type": "markdown",
   "id": "f859356a",
   "metadata": {
    "pycharm": {
     "name": "#%% md\n"
    }
   },
   "source": [
    "Call <code>shout_echo()</code> with the string <code>\"Hey\"</code> and the value <code>5</code> for the default argument, <code>echo</code>. Assign the result to <code>with_echo</code>."
   ]
  },
  {
   "cell_type": "code",
   "execution_count": 61,
   "id": "09b6fa5d",
   "metadata": {
    "pycharm": {
     "name": "#%%\n"
    }
   },
   "outputs": [
    {
     "name": "stdout",
     "output_type": "stream",
     "text": [
      "Hey!!!\n",
      "HeyHeyHeyHeyHey!!!\n"
     ]
    }
   ],
   "source": [
    "# Define shout_echo\n",
    "def shout_echo(word1, echo=1):\n",
    "    \"\"\"Concatenate echo copies of word1 and three\n",
    "     exclamation marks at the end of the string.\"\"\"\n",
    "\n",
    "    # Concatenate echo copies of word1 using *: echo_word\n",
    "    echo_word = word1 * echo\n",
    "\n",
    "    # Concatenate '!!!' to echo_word: shout_word\n",
    "    shout_word = echo_word + '!!!'\n",
    "\n",
    "    # Return shout_word\n",
    "    return shout_word\n",
    "\n",
    "# Call shout_echo() with \"Hey\": no_echo\n",
    "no_echo = shout_echo(\"Hey\")\n",
    "\n",
    "# Call shout_echo() with \"Hey\" and echo=5: with_echo\n",
    "with_echo = shout_echo(\"Hey\",5)\n",
    "\n",
    "# Print no_echo and with_echo\n",
    "print(no_echo)\n",
    "print(with_echo)"
   ]
  },
  {
   "cell_type": "markdown",
   "id": "3929a134",
   "metadata": {
    "pycharm": {
     "name": "#%% md\n"
    }
   },
   "source": [
    "## Functions with multiple default arguments\n",
    "\n",
    "<p>You've now defined a function that uses a default argument - don't stop there just yet! You will now try your hand at defining a function with more than one default argument and then calling this function in various ways. </p>\n",
    "<p>After defining the function, you will call it by supplying values to <em>all</em> the default arguments of the function. Additionally, you will call the function by not passing a value to one of the default arguments - see how that changes the output of your function!</p>"
   ]
  },
  {
   "cell_type": "markdown",
   "id": "0bfc73e6",
   "metadata": {
    "pycharm": {
     "name": "#%% md\n"
    }
   },
   "source": [
    "Complete the function header with the function name <code>shout_echo</code>. It accepts an argument <code>word1</code>, a default argument <code>echo</code> with default value <code>1</code> and a default argument <code>intense</code> with default value <code>False</code>, in that order."
   ]
  },
  {
   "cell_type": "markdown",
   "id": "d405d6af",
   "metadata": {
    "pycharm": {
     "name": "#%% md\n"
    }
   },
   "source": [
    "In the body of the <code>if</code> statement, make the string object <code>echo_word</code> upper case by applying the method <code>.upper()</code> on it."
   ]
  },
  {
   "cell_type": "markdown",
   "id": "a9078a5e",
   "metadata": {
    "pycharm": {
     "name": "#%% md\n"
    }
   },
   "source": [
    "Call <code>shout_echo()</code> with the string, <code>\"Hey\"</code>, the value <code>5</code> for <code>echo</code> and the value <code>True</code> for <code>intense</code>. Assign the result to <code>with_big_echo</code>."
   ]
  },
  {
   "cell_type": "markdown",
   "id": "f20a4f5d",
   "metadata": {
    "pycharm": {
     "name": "#%% md\n"
    }
   },
   "source": [
    "Call <code>shout_echo()</code> with the string <code>\"Hey\"</code> and the value <code>True</code> for <code>intense</code>. Assign the result to <code>big_no_echo</code>."
   ]
  },
  {
   "cell_type": "code",
   "execution_count": null,
   "id": "3b77cffb",
   "metadata": {
    "pycharm": {
     "name": "#%%\n"
    }
   },
   "outputs": [],
   "source": []
  },
  {
   "cell_type": "code",
   "execution_count": 64,
   "id": "8766c823",
   "metadata": {
    "pycharm": {
     "name": "#%%\n"
    }
   },
   "outputs": [
    {
     "name": "stdout",
     "output_type": "stream",
     "text": [
      "HEYHEYHEYHEYHEY!!!\n",
      "HEY!!!\n"
     ]
    }
   ],
   "source": [
    "# Define shout_echo\n",
    "def shout_echo(word1, echo=1, intense=False):\n",
    "    \"\"\"Concatenate echo copies of word1 and three\n",
    "    exclamation marks at the end of the string.\"\"\"\n",
    "\n",
    "    # Concatenate echo copies of word1 using *: echo_word\n",
    "    echo_word = word1 * echo\n",
    "\n",
    "    # Make echo_word uppercase if intense is True\n",
    "    if intense is True:\n",
    "        # Make uppercase and concatenate '!!!': echo_word_new\n",
    "        echo_word_new = echo_word.upper() + '!!!'\n",
    "    else:\n",
    "        # Concatenate '!!!' to echo_word: echo_word_new\n",
    "        echo_word_new = echo_word + '!!!'\n",
    "\n",
    "    # Return echo_word_new\n",
    "    return echo_word_new\n",
    "\n",
    "# Call shout_echo() with \"Hey\", echo=5 and intense=True: with_big_echo\n",
    "with_big_echo = shout_echo(\"Hey\",5,True)\n",
    "\n",
    "# Call shout_echo() with \"Hey\" and intense=True: big_no_echo\n",
    "big_no_echo = shout_echo(\"Hey\",intense=True)\n",
    "\n",
    "# Print values\n",
    "print(with_big_echo)\n",
    "print(big_no_echo)"
   ]
  },
  {
   "cell_type": "markdown",
   "id": "7e4b5c76",
   "metadata": {
    "pycharm": {
     "name": "#%% md\n"
    }
   },
   "source": [
    "## Functions with variable-length arguments (*args)\n",
    "\n",
    "<p>Flexible arguments enable you to pass a variable number of arguments to a function. In this exercise, you will practice defining a function that accepts a variable number of string arguments.</p>\n",
    "<p>The function you will define is <code>gibberish()</code> which can accept a variable number of string values. Its return value is a single string composed of all the string arguments concatenated together in the order they were passed to the function call. You will call the function with a single string argument and see how the output changes with another call using more than one string argument. Recall from the previous video that, within the function definition, <code>args</code> is a tuple.</p>"
   ]
  },
  {
   "cell_type": "markdown",
   "id": "0454c63d",
   "metadata": {
    "pycharm": {
     "name": "#%% md\n"
    }
   },
   "source": [
    "Complete the function header with the function name <code>gibberish</code>. It accepts a single flexible argument <code>*args</code>."
   ]
  },
  {
   "cell_type": "markdown",
   "id": "d03044e5",
   "metadata": {
    "pycharm": {
     "name": "#%% md\n"
    }
   },
   "source": [
    "Initialize a variable <code>hodgepodge</code> to an empty string."
   ]
  },
  {
   "cell_type": "markdown",
   "id": "d9936361",
   "metadata": {
    "pycharm": {
     "name": "#%% md\n"
    }
   },
   "source": [
    "Return the variable <code>hodgepodge</code> at the end of the function body."
   ]
  },
  {
   "cell_type": "markdown",
   "id": "e4f4801e",
   "metadata": {
    "pycharm": {
     "name": "#%% md\n"
    }
   },
   "source": [
    "Call <code>gibberish()</code> with the single string, <code>\"luke\"</code>. Assign the result to <code>one_word</code>."
   ]
  },
  {
   "cell_type": "markdown",
   "id": "6ea9729e",
   "metadata": {
    "pycharm": {
     "name": "#%% md\n"
    }
   },
   "source": [
    "Hit the Submit button to call <code>gibberish()</code> with multiple arguments and to print the value to the Shell."
   ]
  },
  {
   "cell_type": "code",
   "execution_count": 65,
   "id": "529a82fb",
   "metadata": {
    "pycharm": {
     "name": "#%%\n"
    }
   },
   "outputs": [
    {
     "name": "stdout",
     "output_type": "stream",
     "text": [
      "luke\n",
      "lukeleiahanobidarth\n"
     ]
    }
   ],
   "source": [
    "# Define gibberish\n",
    "def gibberish(*args):\n",
    "    \"\"\"Concatenate strings in *args together.\"\"\"\n",
    "\n",
    "    # Initialize an empty string: hodgepodge\n",
    "    hodgepodge =\"\"\n",
    "\n",
    "\n",
    "    # Concatenate the strings in args\n",
    "    for word in args:\n",
    "        hodgepodge += word\n",
    "\n",
    "    # Return hodgepodge\n",
    "    return hodgepodge\n",
    "\n",
    "# Call gibberish() with one string: one_word\n",
    "one_word = gibberish(\"luke\")\n",
    "\n",
    "# Call gibberish() with five strings: many_words\n",
    "many_words = gibberish(\"luke\", \"leia\", \"han\", \"obi\", \"darth\")\n",
    "\n",
    "# Print one_word and many_words\n",
    "print(one_word)\n",
    "print(many_words)"
   ]
  },
  {
   "cell_type": "markdown",
   "id": "7128e25a",
   "metadata": {
    "pycharm": {
     "name": "#%% md\n"
    }
   },
   "source": [
    "## Functions with variable-length keyword arguments (**kwargs)\n",
    "\n",
    "<p>Let's push further on what you've learned about flexible arguments - you've used <code>*args</code>, you're now going to use <code>**kwargs</code>! What makes <code>**kwargs</code> different is that it allows you to pass a variable number of <em>keyword arguments</em> to functions. Recall from the previous video that, within the function definition, <code>kwargs</code> is a dictionary.</p>\n",
    "<p>To understand this idea better, you're going to use <code>**kwargs</code> in this exercise to define a function that accepts a variable number of keyword arguments. The function simulates a simple status report system that prints out the status of a character in a movie.</p>"
   ]
  },
  {
   "cell_type": "markdown",
   "id": "e0eb1d9e",
   "metadata": {
    "pycharm": {
     "name": "#%% md\n"
    }
   },
   "source": [
    "Complete the function header with the function name <code>report_status</code>. It accepts a single flexible argument <code>**kwargs</code>."
   ]
  },
  {
   "cell_type": "markdown",
   "id": "41b9b3b0",
   "metadata": {
    "pycharm": {
     "name": "#%% md\n"
    }
   },
   "source": [
    "Iterate over the key-value pairs of <code>kwargs</code> to print out the keys and values, separated by a colon ':'."
   ]
  },
  {
   "cell_type": "markdown",
   "id": "7fac01ff",
   "metadata": {
    "pycharm": {
     "name": "#%% md\n"
    }
   },
   "source": [
    "In the first call to <code>report_status()</code>, pass the following keyword-value pairs: <code>name=\"luke\"</code>, <code>affiliation=\"jedi\"</code> and <code>status=\"missing\"</code>."
   ]
  },
  {
   "cell_type": "markdown",
   "id": "b7dec9d3",
   "metadata": {
    "pycharm": {
     "name": "#%% md\n"
    }
   },
   "source": [
    "In the second call to <code>report_status()</code>, pass the following keyword-value pairs: <code>name=\"anakin\"</code>, <code>affiliation=\"sith lord\"</code> and <code>status=\"deceased\"</code>."
   ]
  },
  {
   "cell_type": "code",
   "execution_count": 67,
   "id": "0bd7e129",
   "metadata": {
    "pycharm": {
     "name": "#%%\n"
    }
   },
   "outputs": [
    {
     "name": "stdout",
     "output_type": "stream",
     "text": [
      "\n",
      "BEGIN: REPORT\n",
      "\n",
      "name: luke\n",
      "affiliation: jedi\n",
      "status: missing\n",
      "\n",
      "END REPORT\n",
      "\n",
      "BEGIN: REPORT\n",
      "\n",
      "name: anakin\n",
      "affiliation: sith lord\n",
      "status: deceased\n",
      "\n",
      "END REPORT\n"
     ]
    }
   ],
   "source": [
    "# Define report_status\n",
    "def report_status(**kwargs):\n",
    "    \"\"\"Print out the status of a movie character.\"\"\"\n",
    "\n",
    "    print(\"\\nBEGIN: REPORT\\n\")\n",
    "\n",
    "    # Iterate over the key-value pairs of kwargs\n",
    "    for key, value in kwargs.items():\n",
    "        # Print out the keys and values, separated by a colon ':'\n",
    "        print(key + \": \" + value)\n",
    "\n",
    "    print(\"\\nEND REPORT\")\n",
    "\n",
    "# First call to report_status()\n",
    "report_status(name=\"luke\", affiliation=\"jedi\", status=\"missing\")\n",
    "\n",
    "# Second call to report_status()\n",
    "report_status(name=\"anakin\", affiliation=\"sith lord\", status=\"deceased\")"
   ]
  },
  {
   "cell_type": "markdown",
   "id": "970e0bbd",
   "metadata": {
    "pycharm": {
     "name": "#%% md\n"
    }
   },
   "source": [
    "## Bringing it all together"
   ]
  },
  {
   "cell_type": "markdown",
   "id": "f78b1a85",
   "metadata": {
    "pycharm": {
     "name": "#%% md\n"
    }
   },
   "source": [
    "### 1. Bringing it all together\n",
    "\n",
    "It's now time to get you hands dirty using your newly acquired skills by applying them to the wonderful world of Data Science: recall that, in the previous chapter, you wrote a function that would perform the following: it would take a DataFrame of twitter data and return a dictionary containing languages as keys and the number of times a tweet was written in a given language as values."
   ]
  },
  {
   "cell_type": "markdown",
   "id": "ccdd2888",
   "metadata": {
    "pycharm": {
     "name": "#%% md\n"
    }
   },
   "source": [
    "### 2. Next exercises:\n",
    "\n",
    "In the following exercises, you will write a function that processes a DataFrame and returns a dictionary with counts of occurrences in any column at all! By default, however, it will process a column called lang. This generalizes the previous function that you wrote. You will then generalize this further so that you can pass the function a DataFrame and any number of column names to perform the computation on an arbitrary number of columns."
   ]
  },
  {
   "cell_type": "markdown",
   "id": "bfa23ce2",
   "metadata": {
    "pycharm": {
     "name": "#%% md\n"
    }
   },
   "source": [
    "### 3. Add a default argument\n",
    "\n",
    "Let's remind ourselves of the techniques necessary: recall that to define a function with a default argument, all that you need to do is provide that argument in the function header as you can see here."
   ]
  },
  {
   "cell_type": "markdown",
   "id": "07ea8037",
   "metadata": {
    "pycharm": {
     "name": "#%% md\n"
    }
   },
   "source": [
    "### 4. Flexible arguments: *args (1)\n",
    "\n",
    "Next up, to write a function that you can pass an arbitrary number of arguments to, that is, flexible arguments, we use the arguments args as here, and then we can loop over all elements of args in the function body. Now that we've had that quick refresher, let's write some more functions!"
   ]
  },
  {
   "cell_type": "markdown",
   "id": "8850075a",
   "metadata": {
    "pycharm": {
     "name": "#%% md\n"
    }
   },
   "source": [
    "### 5. Let's practice!\n",
    "\n",
    "Happy coding!"
   ]
  },
  {
   "cell_type": "markdown",
   "id": "16d990cf",
   "metadata": {
    "pycharm": {
     "name": "#%% md\n"
    }
   },
   "source": [
    "## Bringing it all together (1)\n",
    "\n",
    "<p>Recall the <em>Bringing it all together</em> exercise in the previous chapter where you did a simple Twitter analysis by developing a function that counts how many tweets are in certain languages. The output of your function was a dictionary that had the language as the <em>keys</em> and the counts of tweets in that language as the <em>value</em>.</p>\n",
    "<p>In this exercise, we will generalize the Twitter language analysis that you did in the previous chapter. You will do that by including a <strong>default argument</strong> that takes a column name. </p>\n",
    "<p>For your convenience, <code>pandas</code> has been imported as <code>pd</code> and the <code>'tweets.csv'</code> file has been imported into the DataFrame <code>tweets_df</code>. Parts of the code from your previous work are also provided.</p>"
   ]
  },
  {
   "cell_type": "markdown",
   "id": "46250402",
   "metadata": {
    "pycharm": {
     "name": "#%% md\n"
    }
   },
   "source": [
    "Complete the function header by supplying the parameter for a DataFrame <code>df</code> and the parameter <code>col_name</code> with a default value of <code>'lang'</code> for the DataFrame column name."
   ]
  },
  {
   "cell_type": "markdown",
   "id": "f45e9b5d",
   "metadata": {
    "pycharm": {
     "name": "#%% md\n"
    }
   },
   "source": [
    "Call <code>count_entries()</code> by passing the <code>tweets_df</code> DataFrame and the column name <code>'lang'</code>. Assign the result to <code>result1</code>. Note that since <code>'lang'</code> is the default value of the <code>col_name</code> parameter, you don't have to specify it here."
   ]
  },
  {
   "cell_type": "markdown",
   "id": "f4a5002e",
   "metadata": {
    "pycharm": {
     "name": "#%% md\n"
    }
   },
   "source": [
    "Call <code>count_entries()</code> by passing the <code>tweets_df</code> DataFrame and the column name <code>'source'</code>. Assign the result to <code>result2</code>."
   ]
  },
  {
   "cell_type": "code",
   "execution_count": 68,
   "id": "56adde72",
   "metadata": {
    "pycharm": {
     "name": "#%%\n"
    }
   },
   "outputs": [
    {
     "name": "stdout",
     "output_type": "stream",
     "text": [
      "{'en': 97, 'et': 1, 'und': 2}\n",
      "{'<a href=\"http://twitter.com\" rel=\"nofollow\">Twitter Web Client</a>': 24, '<a href=\"http://www.facebook.com/twitter\" rel=\"nofollow\">Facebook</a>': 1, '<a href=\"http://twitter.com/download/android\" rel=\"nofollow\">Twitter for Android</a>': 26, '<a href=\"http://twitter.com/download/iphone\" rel=\"nofollow\">Twitter for iPhone</a>': 33, '<a href=\"http://www.twitter.com\" rel=\"nofollow\">Twitter for BlackBerry</a>': 2, '<a href=\"http://www.google.com/\" rel=\"nofollow\">Google</a>': 2, '<a href=\"http://twitter.com/#!/download/ipad\" rel=\"nofollow\">Twitter for iPad</a>': 6, '<a href=\"http://linkis.com\" rel=\"nofollow\">Linkis.com</a>': 2, '<a href=\"http://rutracker.org/forum/viewforum.php?f=93\" rel=\"nofollow\">newzlasz</a>': 2, '<a href=\"http://ifttt.com\" rel=\"nofollow\">IFTTT</a>': 1, '<a href=\"http://www.myplume.com/\" rel=\"nofollow\">Plume\\xa0for\\xa0Android</a>': 1}\n"
     ]
    }
   ],
   "source": [
    "# Define count_entries()\n",
    "def count_entries(df, col_name=\"lang\"):\n",
    "    \"\"\"Return a dictionary with counts of\n",
    "    occurrences as value for each key.\"\"\"\n",
    "\n",
    "    # Initialize an empty dictionary: cols_count\n",
    "    cols_count = {}\n",
    "\n",
    "    # Extract column from DataFrame: col\n",
    "    col = df[col_name]\n",
    "\n",
    "    # Iterate over the column in DataFrame\n",
    "    for entry in col:\n",
    "\n",
    "        # If entry is in cols_count, add 1\n",
    "        if entry in cols_count.keys():\n",
    "            cols_count[entry] += 1\n",
    "\n",
    "        # Else add the entry to cols_count, set the value to 1\n",
    "        else:\n",
    "            cols_count[entry] = 1\n",
    "\n",
    "    # Return the cols_count dictionary\n",
    "    return cols_count\n",
    "\n",
    "# Call count_entries(): result1\n",
    "result1 = count_entries(df)\n",
    "\n",
    "# Call count_entries(): result2\n",
    "result2 = count_entries(df,\"source\")\n",
    "\n",
    "# Print result1 and result2\n",
    "print(result1)\n",
    "print(result2)"
   ]
  },
  {
   "cell_type": "markdown",
   "id": "2ce79487",
   "metadata": {
    "pycharm": {
     "name": "#%% md\n"
    }
   },
   "source": [
    "## Bringing it all together (2)\n",
    "\n",
    "<p>Wow, you've just generalized your Twitter language analysis that you did in the previous chapter to include a default argument for the column name. You're now going to generalize this function one step further by allowing the user to pass it a flexible argument, that is, in this case, as many column names as the user would like!</p>\n",
    "<p>Once again, for your convenience, <code>pandas</code> has been imported as <code>pd</code> and the <code>'tweets.csv'</code> file has been imported into the DataFrame <code>tweets_df</code>. Parts of the code from your previous work are also provided.</p>"
   ]
  },
  {
   "cell_type": "markdown",
   "id": "52f4e991",
   "metadata": {
    "pycharm": {
     "name": "#%% md\n"
    }
   },
   "source": [
    "Complete the function header by supplying the parameter for the DataFrame <code>df</code> and the flexible argument <code>*args</code>."
   ]
  },
  {
   "cell_type": "markdown",
   "id": "17a70e79",
   "metadata": {
    "pycharm": {
     "name": "#%% md\n"
    }
   },
   "source": [
    "Complete the <code>for</code> loop within the function definition so that the loop occurs over the tuple <code>args</code>."
   ]
  },
  {
   "cell_type": "markdown",
   "id": "0446c6f5",
   "metadata": {
    "pycharm": {
     "name": "#%% md\n"
    }
   },
   "source": [
    "Call <code>count_entries()</code> by passing the <code>tweets_df</code> DataFrame and the column name <code>'lang'</code>. Assign the result to <code>result1</code>."
   ]
  },
  {
   "cell_type": "markdown",
   "id": "ce1db732",
   "metadata": {
    "pycharm": {
     "name": "#%% md\n"
    }
   },
   "source": [
    "Call <code>count_entries()</code> by passing the <code>tweets_df</code> DataFrame and the column names <code>'lang'</code> and <code>'source'</code>. Assign the result to <code>result2</code>."
   ]
  },
  {
   "cell_type": "code",
   "execution_count": 69,
   "id": "4f324be0",
   "metadata": {
    "pycharm": {
     "name": "#%%\n"
    },
    "scrolled": true
   },
   "outputs": [
    {
     "name": "stdout",
     "output_type": "stream",
     "text": [
      "{'en': 97, 'et': 1, 'und': 2}\n",
      "{'en': 97, 'et': 1, 'und': 2, '<a href=\"http://twitter.com\" rel=\"nofollow\">Twitter Web Client</a>': 24, '<a href=\"http://www.facebook.com/twitter\" rel=\"nofollow\">Facebook</a>': 1, '<a href=\"http://twitter.com/download/android\" rel=\"nofollow\">Twitter for Android</a>': 26, '<a href=\"http://twitter.com/download/iphone\" rel=\"nofollow\">Twitter for iPhone</a>': 33, '<a href=\"http://www.twitter.com\" rel=\"nofollow\">Twitter for BlackBerry</a>': 2, '<a href=\"http://www.google.com/\" rel=\"nofollow\">Google</a>': 2, '<a href=\"http://twitter.com/#!/download/ipad\" rel=\"nofollow\">Twitter for iPad</a>': 6, '<a href=\"http://linkis.com\" rel=\"nofollow\">Linkis.com</a>': 2, '<a href=\"http://rutracker.org/forum/viewforum.php?f=93\" rel=\"nofollow\">newzlasz</a>': 2, '<a href=\"http://ifttt.com\" rel=\"nofollow\">IFTTT</a>': 1, '<a href=\"http://www.myplume.com/\" rel=\"nofollow\">Plume\\xa0for\\xa0Android</a>': 1}\n"
     ]
    }
   ],
   "source": [
    "# Define count_entries()\n",
    "def count_entries(df, *args):\n",
    "    \"\"\"Return a dictionary with counts of\n",
    "    occurrences as value for each key.\"\"\"\n",
    "\n",
    "    #Initialize an empty dictionary: cols_count\n",
    "    cols_count = {}\n",
    "\n",
    "    # Iterate over column names in args\n",
    "    for col_name in args:\n",
    "\n",
    "        # Extract column from DataFrame: col\n",
    "        col = df[col_name]\n",
    "\n",
    "        # Iterate over the column in DataFrame\n",
    "        for entry in col:\n",
    "\n",
    "            # If entry is in cols_count, add 1\n",
    "            if entry in cols_count.keys():\n",
    "                cols_count[entry] += 1\n",
    "\n",
    "            # Else add the entry to cols_count, set the value to 1\n",
    "            else:\n",
    "                cols_count[entry] = 1\n",
    "\n",
    "    # Return the cols_count dictionary\n",
    "    return cols_count\n",
    "\n",
    "# Call count_entries(): result1\n",
    "result1 = count_entries(df, 'lang')\n",
    "\n",
    "# Call count_entries(): result2\n",
    "result2 = count_entries(df, \"lang\", \"source\")\n",
    "\n",
    "# Print result1 and result2\n",
    "print(result1)\n",
    "print(result2)"
   ]
  },
  {
   "cell_type": "markdown",
   "id": "3cf0815b",
   "metadata": {
    "pycharm": {
     "name": "#%% md\n"
    }
   },
   "source": [
    "# Lambda functions and error-handling"
   ]
  },
  {
   "cell_type": "markdown",
   "id": "dbde9ca5",
   "metadata": {
    "pycharm": {
     "name": "#%% md\n"
    }
   },
   "source": [
    "## Lambda functions"
   ]
  },
  {
   "cell_type": "markdown",
   "id": "5e26b3ca",
   "metadata": {
    "pycharm": {
     "name": "#%% md\n"
    }
   },
   "source": [
    "### 1. Lambda functions\n",
    "\n",
    "You've written your very own Python functions using the def keyword, function headers, docstrings and function bodies."
   ]
  },
  {
   "cell_type": "markdown",
   "id": "3b51794f",
   "metadata": {
    "pycharm": {
     "name": "#%% md\n"
    }
   },
   "source": [
    "### 2. Lambda functions\n",
    "\n",
    "There's a quicker way to write functions on the fly and these are called lambda functions because you use the keyword lambda. Here we re-write our function raise_to_power as a lambda function. To do so, after the keyword lambda, we specify the names of the arguments; then we use a colon followed by the expression that specifies what we wish the function to return. Lambda functions allow you to write functions in a quick and potentially dirty way so I wouldn't advise you to use them all the time but there are situations when they can come in very handy."
   ]
  },
  {
   "cell_type": "markdown",
   "id": "1cae0684",
   "metadata": {
    "pycharm": {
     "name": "#%% md\n"
    }
   },
   "source": [
    "### 3. Anonymous functions\n",
    "\n",
    "For example, check out the map function, which takes two arguments, a function and a sequence such as a list and applies the function over all elements of the sequence. We can pass lambda functions to map without even naming them and in this case we refer to them as anonymous functions. In this example, we use map on a lambda function that squares all elements of a list and we'll store the result in square_all. Printing square_all reveals that it is actually a map object so to see what it contains we use the function list to turn it into a list and print the results to the shell. As expected, it's a list containing the squares of the elements in the original list!"
   ]
  },
  {
   "cell_type": "markdown",
   "id": "01029117",
   "metadata": {
    "pycharm": {
     "name": "#%% md\n"
    }
   },
   "source": [
    "### 4. Let's practice!\n",
    "\n",
    "In the following interactive exercises, you'll become a boss at writing lambda functions and see a number of other cool uses for them. Get hacking!"
   ]
  },
  {
   "cell_type": "markdown",
   "id": "934b06a6",
   "metadata": {
    "pycharm": {
     "name": "#%% md\n"
    }
   },
   "source": [
    "## Writing a lambda function you already know\n",
    "\n",
    "<p>Some function definitions are simple enough that they can be converted to a lambda function. By doing this, you write less lines of code, which is pretty awesome and will come in handy, especially when you're writing and maintaining big programs. In this exercise, you will use what you know about lambda functions to convert a function that does a simple task into a lambda function. Take a look at this function definition:</p>\n",
    "<pre><code>def echo_word(word1, echo):\n",
    "    \"\"\"Concatenate echo copies of word1.\"\"\"\n",
    "    words = word1 * echo\n",
    "    return words\n",
    "</code></pre>\n",
    "<p>The function <code>echo_word</code> takes 2 parameters: a string value, <code>word1</code> and an integer value, <code>echo</code>. It returns a string that is a concatenation of <code>echo</code> copies of <code>word1</code>. Your task is to convert this simple function into a lambda function.</p>"
   ]
  },
  {
   "cell_type": "markdown",
   "id": "5a368a56",
   "metadata": {
    "pycharm": {
     "name": "#%% md\n"
    }
   },
   "source": [
    "Define the lambda function <code>echo_word</code> using the variables <code>word1</code> and <code>echo</code>. Replicate what the original function definition for <code>echo_word()</code> does above."
   ]
  },
  {
   "cell_type": "markdown",
   "id": "a975fb6f",
   "metadata": {
    "pycharm": {
     "name": "#%% md\n"
    }
   },
   "source": [
    "Call <code>echo_word()</code> with the string argument <code>'hey'</code> and the value <code>5</code>, in that order. Assign the call to <code>result</code>."
   ]
  },
  {
   "cell_type": "markdown",
   "id": "8bd5dbe8",
   "metadata": {
    "pycharm": {
     "name": "#%% md\n"
    }
   },
   "source": [
    "## Map() and lambda functions\n",
    "\n",
    "<p>So far, you've used lambda functions to write short, simple functions as well as to redefine functions with simple functionality. The best use case for lambda functions, however, are for when you want these simple functionalities to be anonymously embedded within larger expressions. What that means is that the functionality is not stored in the environment, unlike a function defined with <code>def</code>. To understand this idea better, you will use a lambda function in the context of the <code>map()</code> function.</p>\n",
    "<p>Recall from the video that <code>map()</code> applies a function over an object, such as a list. Here, you can use lambda functions to define the function that <code>map()</code> will use to process the object. For example:</p>\n",
    "<pre><code>nums = [2, 4, 6, 8, 10]\n",
    "\n",
    "result = map(lambda a: a ** 2, nums)\n",
    "</code></pre>\n",
    "<p>You can see here that a lambda function, which raises a value <code>a</code> to the power of 2, is passed to <code>map()</code> alongside a list of numbers, <code>nums</code>. The <em>map object</em> that results from the call to <code>map()</code> is stored in <code>result</code>. You will now practice the use of lambda functions with <code>map()</code>. For this exercise, you will map the functionality of the <code>add_bangs()</code> function you defined in previous exercises over a list of strings.</p>"
   ]
  },
  {
   "cell_type": "markdown",
   "id": "a789f392",
   "metadata": {
    "pycharm": {
     "name": "#%% md\n"
    }
   },
   "source": [
    "In the <code>map()</code> call, pass a lambda function that concatenates the string <code>'!!!'</code> to a string <code>item</code>; also pass the list of strings, <code>spells</code>. Assign the resulting map object to <code>shout_spells</code>."
   ]
  },
  {
   "cell_type": "markdown",
   "id": "f1630bd7",
   "metadata": {
    "pycharm": {
     "name": "#%% md\n"
    }
   },
   "source": [
    "Convert <code>shout_spells</code> to a list and print out the list."
   ]
  },
  {
   "cell_type": "markdown",
   "id": "c448eb71",
   "metadata": {
    "pycharm": {
     "name": "#%% md\n"
    }
   },
   "source": [
    "## Filter() and lambda functions\n",
    "\n",
    "<p>In the previous exercise, you used lambda functions to anonymously embed an operation within <code>map()</code>. You will practice this again in this exercise by using a lambda function with <code>filter()</code>, which may be new to you! The function <code>filter()</code> offers a way to filter out elements from a list that don't satisfy certain criteria.</p>\n",
    "<p>Your goal in this exercise is to use <code>filter()</code> to create, from an input list of strings, a new list that contains only strings that have more than 6 characters.</p>"
   ]
  },
  {
   "cell_type": "markdown",
   "id": "f9bdaefa",
   "metadata": {
    "pycharm": {
     "name": "#%% md\n"
    }
   },
   "source": [
    "In the <code>filter()</code> call, pass a lambda function and the list of strings, <code>fellowship</code>. The lambda function should check if the number of characters in a string <code>member</code> is greater than 6; use the <code>len()</code> function to do this. Assign the resulting filter object to <code>result</code>."
   ]
  },
  {
   "cell_type": "markdown",
   "id": "513c232c",
   "metadata": {
    "pycharm": {
     "name": "#%% md\n"
    }
   },
   "source": [
    "Convert <code>result</code> to a list and print out the list."
   ]
  },
  {
   "cell_type": "markdown",
   "id": "6969c0f8",
   "metadata": {
    "pycharm": {
     "name": "#%% md\n"
    }
   },
   "source": [
    "## Reduce() and lambda functions\n",
    "\n",
    "<p>You're getting very good at using lambda functions! Here's one more function to add to your repertoire of skills. The <code>reduce()</code> function is useful for performing some computation on a list and, unlike <code>map()</code> and <code>filter()</code>, returns a single value as a result. To use <code>reduce()</code>, you must import it from the <code>functools</code> module.</p>\n",
    "<p>Remember <code>gibberish()</code> from a few exercises back?</p>\n",
    "<pre><code># Define gibberish\n",
    "def gibberish(*args):\n",
    "    \"\"\"Concatenate strings in *args together.\"\"\"\n",
    "    hodgepodge = ''\n",
    "    for word in args:\n",
    "        hodgepodge += word\n",
    "    return hodgepodge\n",
    "</code></pre>\n",
    "<p><code>gibberish()</code> simply takes a list of strings as an argument and returns, as a single-value result, the concatenation of all of these strings. In this exercise, you will replicate this functionality by using <code>reduce()</code> and a lambda function that concatenates strings together.</p>"
   ]
  },
  {
   "cell_type": "markdown",
   "id": "470694b8",
   "metadata": {
    "pycharm": {
     "name": "#%% md\n"
    }
   },
   "source": [
    "Import the <code>reduce</code> function from the <code>functools</code> module."
   ]
  },
  {
   "cell_type": "markdown",
   "id": "a30cece2",
   "metadata": {
    "pycharm": {
     "name": "#%% md\n"
    }
   },
   "source": [
    "In the <code>reduce()</code> call, pass a lambda function that takes two string arguments <code>item1</code> and <code>item2</code> and concatenates them; also pass the list of strings, <code>stark</code>. Assign the result to <code>result</code>. The first argument to <code>reduce()</code> should be the lambda function and the second argument is the list <code>stark</code>."
   ]
  },
  {
   "cell_type": "markdown",
   "id": "2bb6d66a",
   "metadata": {
    "pycharm": {
     "name": "#%% md\n"
    }
   },
   "source": [
    "## Introduction to error handling"
   ]
  },
  {
   "cell_type": "markdown",
   "id": "0c6e701d",
   "metadata": {
    "pycharm": {
     "name": "#%% md\n"
    }
   },
   "source": [
    "### 1. Introduction to error handling\n",
    "\n",
    "When you use a function incorrectly, it should throw you an error. For example,"
   ]
  },
  {
   "cell_type": "markdown",
   "id": "1723d538",
   "metadata": {
    "pycharm": {
     "name": "#%% md\n"
    }
   },
   "source": [
    "### 2. The float() function\n",
    "\n",
    "check out the function float that returns a floating point from a number or string, under the condition that the string corresponds to a number."
   ]
  },
  {
   "cell_type": "markdown",
   "id": "c9e4847f",
   "metadata": {
    "pycharm": {
     "name": "#%% md\n"
    }
   },
   "source": [
    "### 3. Passing an incorrect argument\n",
    "\n",
    "When I pass the function float an integer, the corresponding float is returned; similarly if I pass it the string '2.3'. However, if I pass it the string 'hello', Python will throw me an error telling me that it couldn't convert the string to a float. In this case, it threw me a ValueError and there are many types of errors."
   ]
  },
  {
   "cell_type": "markdown",
   "id": "85b6017a",
   "metadata": {
    "pycharm": {
     "name": "#%% md\n"
    }
   },
   "source": [
    "### 4. Passing valid arguments\n",
    "\n",
    "When we write our own functions, as we have been doing, we may wish to catch specific problems and write specific error messages. Let's check out this user-defined function that computes the square root of a number. It behaves as expected with integers."
   ]
  },
  {
   "cell_type": "markdown",
   "id": "6f187991",
   "metadata": {
    "pycharm": {
     "name": "#%% md\n"
    }
   },
   "source": [
    "### 5. Passing invalid arguments\n",
    "\n",
    "What happens if we pass it a string such as 'hello'? Then it throws me an error corresponding to a line of code within the function definition. This error says it was some sort of TypeError but the message may not be particularly useful to a user of our function, so we should endeavor to provide useful error messages for the functions we write."
   ]
  },
  {
   "cell_type": "markdown",
   "id": "b996a0aa",
   "metadata": {
    "pycharm": {
     "name": "#%% md\n"
    }
   },
   "source": [
    "### 6. Errors and exceptions\n",
    "\n",
    "This is an example of an error caught during execution, commonly called exceptions. The main way to catch such exceptions is the try-except clause, in which Python tries to run the code following try and if it can, all is well. If it cannot due to an exception, it runs the code following except."
   ]
  },
  {
   "cell_type": "markdown",
   "id": "4502bafd",
   "metadata": {
    "pycharm": {
     "name": "#%% md\n"
    }
   },
   "source": [
    "### 7. Errors and exceptions\n",
    "\n",
    "Let's now rewrite our square root function but this time catch any exceptions raised. So here, we try to execute x to the power of zero point five; using except, in the case of an exception, we print 'x must be an int or float'. Now we see that the resulting function behaves well for ints and floats and also prints out what we wanted it to for a string."
   ]
  },
  {
   "cell_type": "markdown",
   "id": "c3928729",
   "metadata": {
    "pycharm": {
     "name": "#%% md\n"
    }
   },
   "source": [
    "### 8. Errors and exceptions\n",
    "\n",
    "We may also wish to only catch TypeErrors and let other errors pass through, in which case we would use except TypeError as you can see here. There are many other types of exceptions that can be caught and you can have a look at them in the Python documentation available online."
   ]
  },
  {
   "cell_type": "markdown",
   "id": "cd1b9ca4",
   "metadata": {
    "pycharm": {
     "name": "#%% md\n"
    }
   },
   "source": [
    "### 9. Errors and exceptions\n",
    "\n",
    "More often than not, instead of merely printing an error message, we'll want to actually raise an error by using the keyword raise. For example, our square root function does something we may not desire when applied to negative numbers. It actually returns a complex number which we may not want. In fact, let's say that we don't wish our function to work for negative numbers. Then using an if clause, we can raise a ValueError for cases in which the user passes the function a negative number."
   ]
  },
  {
   "cell_type": "markdown",
   "id": "285f2cca",
   "metadata": {
    "pycharm": {
     "name": "#%% md\n"
    }
   },
   "source": [
    "### 10. Errors and exceptions\n",
    "\n",
    "Let's now see it in action! If we pass our new function a negative number, see it returns the prescribed ValueError! That's enough out of me."
   ]
  },
  {
   "cell_type": "markdown",
   "id": "1b77536b",
   "metadata": {
    "pycharm": {
     "name": "#%% md\n"
    }
   },
   "source": [
    "### 11. Let's practice!\n",
    "\n",
    "It's time to get you writing your very own error messages to help people use your functions!"
   ]
  },
  {
   "cell_type": "markdown",
   "id": "ddc670d0",
   "metadata": {
    "pycharm": {
     "name": "#%% md\n"
    }
   },
   "source": [
    "## Error handling with try-except\n",
    "\n",
    "<p>A good practice in writing your own functions is also anticipating the ways in which other people (or yourself, if you accidentally misuse your own function) might use the function you defined. </p>\n",
    "<p>As in the previous exercise, you saw that the <code>len()</code> function is able to handle input arguments such as strings, lists, and tuples, but not int type ones and raises an appropriate error and error message when it encounters invalid input arguments. One way of doing this is through exception handling with the <code>try-except</code> block. </p>\n",
    "<p>In this exercise, you will define a function as well as use a <code>try-except</code> block for handling cases when incorrect input arguments are passed to the function.</p>\n",
    "<p>Recall the <code>shout_echo()</code> function you defined in previous exercises; parts of the function definition are provided in the sample code. Your goal is to complete the exception handling code in the function definition and provide an appropriate error message when raising an error.</p>"
   ]
  },
  {
   "cell_type": "markdown",
   "id": "64a8746d",
   "metadata": {
    "pycharm": {
     "name": "#%% md\n"
    }
   },
   "source": [
    "Initialize the variables <code>echo_word</code> and <code>shout_words</code> to empty strings."
   ]
  },
  {
   "cell_type": "markdown",
   "id": "b03e1161",
   "metadata": {
    "pycharm": {
     "name": "#%% md\n"
    }
   },
   "source": [
    "Add the keywords <code>try</code> and <code>except</code> in the appropriate locations for the exception handling block."
   ]
  },
  {
   "cell_type": "markdown",
   "id": "5364d0fe",
   "metadata": {
    "pycharm": {
     "name": "#%% md\n"
    }
   },
   "source": [
    "Use the <code>*</code> operator to concatenate <code>echo</code> copies of <code>word1</code>. Assign the result to <code>echo_word</code>."
   ]
  },
  {
   "cell_type": "markdown",
   "id": "4ac8c950",
   "metadata": {
    "pycharm": {
     "name": "#%% md\n"
    }
   },
   "source": [
    "Concatenate the string <code>'!!!'</code> to <code>echo_word</code>. Assign the result to <code>shout_words</code>."
   ]
  },
  {
   "cell_type": "markdown",
   "id": "ee46aa48",
   "metadata": {
    "pycharm": {
     "name": "#%% md\n"
    }
   },
   "source": [
    "## Error handling by raising an error\n",
    "\n",
    "<p>Another way to raise an error is by using <code>raise</code>. In this exercise, you will add a <code>raise</code> statement to the <code>shout_echo()</code> function you defined before to raise an error message when the value supplied by the user to the <code>echo</code> argument is less than 0.</p>\n",
    "<p>The call to <code>shout_echo()</code> uses valid argument values. To test and see how the <code>raise</code> statement works, simply change the value for the <code>echo</code> argument to a <em>negative</em> value. Don't forget to change it back to valid values to move on to the next exercise!</p>"
   ]
  },
  {
   "cell_type": "markdown",
   "id": "6ffabab8",
   "metadata": {
    "pycharm": {
     "name": "#%% md\n"
    }
   },
   "source": [
    "Complete the <code>if</code> statement by checking if the value of <code>echo</code> is <em>less than</em> 0."
   ]
  },
  {
   "cell_type": "markdown",
   "id": "919c722a",
   "metadata": {
    "pycharm": {
     "name": "#%% md\n"
    }
   },
   "source": [
    "In the body of the <code>if</code> statement, add a <code>raise</code> statement that raises a <code>ValueError</code> with message <code>'echo must be greater than or equal to 0'</code> when the value supplied by the user to <code>echo</code> is less than 0."
   ]
  },
  {
   "cell_type": "markdown",
   "id": "c6558b75",
   "metadata": {
    "pycharm": {
     "name": "#%% md\n"
    }
   },
   "source": [
    "## Bringing it all together"
   ]
  },
  {
   "cell_type": "markdown",
   "id": "1a38682e",
   "metadata": {
    "pycharm": {
     "name": "#%% md\n"
    }
   },
   "source": [
    "### 1. Bringing it all together\n",
    "\n",
    "You're now going to use your hard-earnt skills to write error messages into your DataFrame analyzer that you have been building up in previous chapters:"
   ]
  },
  {
   "cell_type": "markdown",
   "id": "b4b21441",
   "metadata": {
    "pycharm": {
     "name": "#%% md\n"
    }
   },
   "source": [
    "### 2. Errors and exceptions\n",
    "\n",
    "let's say that a user of your function passes your function the name of a column that isn't a column in the DataFrame that they pass it; you'll want to let them know! In the following interactive exercises, you'll write error messages using two methods that you have learned: one, using the try-except syntax that you see here;"
   ]
  },
  {
   "cell_type": "markdown",
   "id": "681dc34c",
   "metadata": {
    "pycharm": {
     "name": "#%% md\n"
    }
   },
   "source": [
    "### 3. Errors and exceptions\n",
    "\n",
    "two: explicitly raising errors using the keyword raise as in this example."
   ]
  },
  {
   "cell_type": "markdown",
   "id": "677435d0",
   "metadata": {
    "pycharm": {
     "name": "#%% md\n"
    }
   },
   "source": [
    "### 4. Let's practice!\n",
    "\n",
    "Now that's enough out of me, happy function writing and error handling!"
   ]
  },
  {
   "cell_type": "markdown",
   "id": "6bac4d6a",
   "metadata": {
    "pycharm": {
     "name": "#%% md\n"
    }
   },
   "source": [
    "## Bringing it all together (1)\n",
    "\n",
    "<p>This is awesome! You have now learned how to write anonymous functions using <code>lambda</code>, how to pass lambda functions as arguments to other functions such as <code>map()</code>, <code>filter()</code>, and <code>reduce()</code>, as well as how to write errors and output custom error messages within your functions. You will now put together these learnings to good use by working with a Twitter dataset. Before practicing your new error handling skills; in this exercise, you will write a lambda function and use <code>filter()</code> to select retweets, that is, tweets that begin with the string <code>'RT'</code>.</p>\n",
    "<p>To help you accomplish this, the Twitter data has been imported into the DataFrame, <code>tweets_df</code>. Go for it!</p>"
   ]
  },
  {
   "cell_type": "markdown",
   "id": "962365b1",
   "metadata": {
    "pycharm": {
     "name": "#%% md\n"
    }
   },
   "source": [
    "In the <code>filter()</code> call, pass a lambda function and the sequence of tweets as strings, <code>tweets_df['text']</code>. The lambda function should check if the first 2 characters in a tweet <code>x</code> are 'RT'. Assign the resulting filter object to <code>result</code>.  To get the first 2 characters in a tweet <code>x</code>, use <code>x[0:2]</code>. To check equality, use a Boolean filter with <code>==</code>."
   ]
  },
  {
   "cell_type": "markdown",
   "id": "3da62f6a",
   "metadata": {
    "pycharm": {
     "name": "#%% md\n"
    }
   },
   "source": [
    "Convert <code>result</code> to a list and print out the list."
   ]
  },
  {
   "cell_type": "markdown",
   "id": "7ad42fb6",
   "metadata": {
    "pycharm": {
     "name": "#%% md\n"
    }
   },
   "source": [
    "## Bringing it all together (2)\n",
    "\n",
    "<p>Sometimes, we make mistakes when calling functions - even ones <em>you</em> made yourself. But don't fret! In this exercise, you will improve on your previous work with the <code>count_entries()</code> function in the last chapter by adding a <code>try-except</code> block to it. This will allow your function to provide a helpful message when the user calls your <code>count_entries()</code> function but provides a column name that isn't in the DataFrame.</p>\n",
    "<p>Once again, for your convenience, <code>pandas</code> has been imported as <code>pd</code> and the <code>'tweets.csv'</code> file has been imported into the DataFrame <code>tweets_df</code>. Parts of the code from your previous work are also provided.</p>"
   ]
  },
  {
   "cell_type": "markdown",
   "id": "38cdf397",
   "metadata": {
    "pycharm": {
     "name": "#%% md\n"
    }
   },
   "source": [
    "Add a <code>try</code> block so that when the function is called with the correct arguments, it processes the DataFrame and returns a dictionary of results."
   ]
  },
  {
   "cell_type": "markdown",
   "id": "df2efebf",
   "metadata": {
    "pycharm": {
     "name": "#%% md\n"
    }
   },
   "source": [
    "Add an <code>except</code> block so that when the function is called incorrectly, it displays the following error message: <code>'The DataFrame does not have a ' + col_name + ' column.'</code>."
   ]
  },
  {
   "cell_type": "markdown",
   "id": "10289952",
   "metadata": {
    "pycharm": {
     "name": "#%% md\n"
    }
   },
   "source": [
    "## Bringing it all together (3)\n",
    "\n",
    "<p>In the previous exercise, you built on your function <code>count_entries()</code> to add a <code>try-except</code> block. This was so that users would get helpful messages when calling your <code>count_entries()</code> function and providing a column name that isn't in the DataFrame. In this exercise, you'll instead raise a <code>ValueError</code> in the case that the user provides a column name that isn't in the DataFrame.</p>\n",
    "<p>Once again, for your convenience, <code>pandas</code> has been imported as <code>pd</code> and the <code>'tweets.csv'</code> file has been imported into the DataFrame <code>tweets_df</code>. Parts of the code from your previous work are also provided.</p>"
   ]
  },
  {
   "cell_type": "markdown",
   "id": "5233a432",
   "metadata": {
    "pycharm": {
     "name": "#%% md\n"
    }
   },
   "source": [
    "If <code>col_name</code> is <em>not</em> a column in the DataFrame <code>df</code>, raise a <code>ValueError 'The DataFrame does not have a ' + col_name + ' column.'</code>."
   ]
  },
  {
   "cell_type": "markdown",
   "id": "cee81288",
   "metadata": {
    "pycharm": {
     "name": "#%% md\n"
    }
   },
   "source": [
    "Call your new function <code>count_entries()</code> to analyze the <code>'lang'</code> column of <code>tweets_df</code>. Store the result in <code>result1</code>. "
   ]
  },
  {
   "cell_type": "markdown",
   "id": "6bdbdc4d",
   "metadata": {
    "pycharm": {
     "name": "#%% md\n"
    }
   },
   "source": [
    "Print <code>result1</code>. This has been done for you, so hit 'Submit Answer' to check out the result. In the next exercise, you'll see that it raises the necessary <code>ValueErrors</code>."
   ]
  },
  {
   "cell_type": "markdown",
   "id": "e3b4d5f9",
   "metadata": {
    "pycharm": {
     "name": "#%% md\n"
    }
   },
   "source": [
    "## Congratulations!"
   ]
  },
  {
   "cell_type": "markdown",
   "id": "ed782ec3",
   "metadata": {
    "pycharm": {
     "name": "#%% md\n"
    }
   },
   "source": [
    "### 1. Congratulations!\n",
    "\n",
    "Well done. You're now well on your way to being a Pythonista Data Science ninja."
   ]
  },
  {
   "cell_type": "markdown",
   "id": "54823fb7",
   "metadata": {
    "pycharm": {
     "name": "#%% md\n"
    }
   },
   "source": [
    "### 2. What you’ve learned:\n",
    "\n",
    "You're now able to write functions in Python that accept single and multiple arguments and can return as many values as you please. You're also adept at using default and flexible arguments and keyword arguments. You've gained insight into scoping in Python, can write lambda functions and handle errors in your very own function writing practice. You've also gained invaluable practice in using all of these techniques to write functions that are useful in a Data Science context. You have come a long way in your developing practice as a budding Pythonista Data Scientist."
   ]
  },
  {
   "cell_type": "markdown",
   "id": "c18aafe2",
   "metadata": {
    "pycharm": {
     "name": "#%% md\n"
    }
   },
   "source": [
    "### 3. There’s more to learn!\n",
    "\n",
    "There are more basic skills that you will need to learn in Python to be valuable as a working Data Scientist and many of these we'll cover in the sequel to this course so if you're finding yourself still thirsty for more Pythonista Data Science chops, I'd head over there right now. There you'll learn all about list comprehensions, which allow you to wrangle data in lists to create other lists, a tool utilized by all Data Scientists working in Python. You'll also learn about iterators, which you have already seen in the context of for loops without having necessarily known it. Iterators are everywhere in PythonLand and, to put it simply, allow you to rapidly iterate Data Science protocols and procedures over sets of objects; these are a couple of the cool functionalities in PythonLand you'll encounter in the sequel to this course, which will conclude with an entire chapter devoted to a case study in which you'll apply time and time again techniques learnt in both of these courses."
   ]
  },
  {
   "cell_type": "markdown",
   "id": "c8d34539",
   "metadata": {
    "pycharm": {
     "name": "#%% md\n"
    }
   },
   "source": [
    "### 4. Let's practice!\n",
    "\n",
    "I'm looking forward to seeing you there and congratulations once again!"
   ]
  }
 ],
 "metadata": {
  "kernelspec": {
   "display_name": "Python 3 (ipykernel)",
   "language": "python",
   "name": "python3"
  },
  "language_info": {
   "codemirror_mode": {
    "name": "ipython",
    "version": 3
   },
   "file_extension": ".py",
   "mimetype": "text/x-python",
   "name": "python",
   "nbconvert_exporter": "python",
   "pygments_lexer": "ipython3",
   "version": "3.9.12"
  },
  "toc": {
   "base_numbering": 1,
   "nav_menu": {},
   "number_sections": true,
   "sideBar": true,
   "skip_h1_title": false,
   "title_cell": "Table of Contents",
   "title_sidebar": "Contents",
   "toc_cell": false,
   "toc_position": {
    "height": "calc(100% - 180px)",
    "left": "10px",
    "top": "150px",
    "width": "165px"
   },
   "toc_section_display": true,
   "toc_window_display": true
  },
  "varInspector": {
   "cols": {
    "lenName": 16,
    "lenType": 16,
    "lenVar": 40
   },
   "kernels_config": {
    "python": {
     "delete_cmd_postfix": "",
     "delete_cmd_prefix": "del ",
     "library": "var_list.py",
     "varRefreshCmd": "print(var_dic_list())"
    },
    "r": {
     "delete_cmd_postfix": ") ",
     "delete_cmd_prefix": "rm(",
     "library": "var_list.r",
     "varRefreshCmd": "cat(var_dic_list()) "
    }
   },
   "types_to_exclude": [
    "module",
    "function",
    "builtin_function_or_method",
    "instance",
    "_Feature"
   ],
   "window_display": false
  }
 },
 "nbformat": 4,
 "nbformat_minor": 5
}
